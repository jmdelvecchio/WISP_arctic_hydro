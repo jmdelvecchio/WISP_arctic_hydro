{
 "cells": [
  {
   "cell_type": "code",
   "execution_count": 9,
   "id": "12f6fe52",
   "metadata": {},
   "outputs": [],
   "source": [
    "import pandas as pd\n",
    "import geopandas as gpd\n",
    "from geopandas import GeoDataFrame\n",
    "import numpy as np\n",
    "from shapely.geometry import Point\n",
    "from matplotlib import pyplot as plt\n",
    "\n",
    "import os"
   ]
  },
  {
   "cell_type": "markdown",
   "id": "7b2f5f4b",
   "metadata": {},
   "source": [
    "This notebook is an exercise in the data analysis method known as \"split-apply-combine.\" The idea is that you <b>split</b> a big set of data into different groups, then you <b>apply</b> the same function or anlaysis to those datapoints, and then <b>combine</b> them together again to compare the groups to each other. \n",
    "<br>\n",
    "<br>\n",
    "In this activity we are <b>splitting</b> watersheds based on their attributes as related to permafrost hydrology. We will then <b>apply</b> some analysis to those watersheds (e.g. asking what sorts of spectral trends we see in time and space) and then <b>combine</b> them for a wholistic analysis"
   ]
  },
  {
   "cell_type": "markdown",
   "id": "d230283e",
   "metadata": {},
   "source": [
    "<B>SAVE A COPY OF THIS NOTEBOOK! I WILL UPDATE THIS NOTEBOOK AND YOU MIGHT LOSE YOUR WORK IF YOU DON\"T SAVE YOUR OWN COPY!</b>"
   ]
  },
  {
   "cell_type": "markdown",
   "id": "ad5b6504",
   "metadata": {},
   "source": [
    "Go to File -> Make a copy and edit that notebook"
   ]
  },
  {
   "cell_type": "markdown",
   "id": "1d594333",
   "metadata": {},
   "source": [
    "# Gather necessary \"splitting\" data "
   ]
  },
  {
   "cell_type": "markdown",
   "id": "aeae3dcf",
   "metadata": {},
   "source": [
    "Here we want to make sure we're creating the best \"splitting\" dataset we can, which can involve merging more than one table from your dataset"
   ]
  },
  {
   "cell_type": "markdown",
   "id": "3b67e3e9",
   "metadata": {},
   "source": [
    "## Turn .csv into a shapefile"
   ]
  },
  {
   "cell_type": "code",
   "execution_count": 10,
   "id": "8c1a55fc",
   "metadata": {},
   "outputs": [],
   "source": [
    "# Load and clean data\n",
    "df = pd.read_csv('data_tables/evans_hydro_supplement_new.csv', encoding='windows-1254')\n",
    "df['Catchment area (km2)'] = df['Catchment area (km2)'].astype(float)\n",
    "df.columns.values[-1] = \"Prior primary permafrost type\"\n",
    "df = df.reindex(columns=df.columns)"
   ]
  },
  {
   "cell_type": "code",
   "execution_count": 11,
   "id": "b4217360",
   "metadata": {},
   "outputs": [
    {
     "data": {
      "text/html": [
       "<div>\n",
       "<style scoped>\n",
       "    .dataframe tbody tr th:only-of-type {\n",
       "        vertical-align: middle;\n",
       "    }\n",
       "\n",
       "    .dataframe tbody tr th {\n",
       "        vertical-align: top;\n",
       "    }\n",
       "\n",
       "    .dataframe thead th {\n",
       "        text-align: right;\n",
       "    }\n",
       "</style>\n",
       "<table border=\"1\" class=\"dataframe\">\n",
       "  <thead>\n",
       "    <tr style=\"text-align: right;\">\n",
       "      <th></th>\n",
       "      <th>Station ID#</th>\n",
       "      <th>Name</th>\n",
       "      <th>Basin</th>\n",
       "      <th>Catchment area (km2)</th>\n",
       "      <th>Latitude</th>\n",
       "      <th>Longitude</th>\n",
       "      <th>Station elevation (m.a.s.l.)</th>\n",
       "      <th>Start year</th>\n",
       "      <th>End year</th>\n",
       "      <th>Continuous permafrost (%)</th>\n",
       "      <th>Discontinuous permafrost (%)</th>\n",
       "      <th>Sporadic permafrost (%)</th>\n",
       "      <th>Isolated permafrost (%)</th>\n",
       "      <th>No permafrost (%)</th>\n",
       "      <th>Primary permafrost type</th>\n",
       "      <th>Prior primary permafrost type</th>\n",
       "    </tr>\n",
       "  </thead>\n",
       "  <tbody>\n",
       "    <tr>\n",
       "      <th>0</th>\n",
       "      <td>1001</td>\n",
       "      <td>Kolyma at Orotuk</td>\n",
       "      <td>Anadyr Kolyma</td>\n",
       "      <td>43776.0</td>\n",
       "      <td>62.12</td>\n",
       "      <td>148.47</td>\n",
       "      <td>478.2</td>\n",
       "      <td>1968</td>\n",
       "      <td>1996</td>\n",
       "      <td>100.0</td>\n",
       "      <td>0.0</td>\n",
       "      <td>0.0</td>\n",
       "      <td>0.0</td>\n",
       "      <td>0.0</td>\n",
       "      <td>Continuous</td>\n",
       "      <td>NaN</td>\n",
       "    </tr>\n",
       "    <tr>\n",
       "      <th>1</th>\n",
       "      <td>1095</td>\n",
       "      <td>Kulu at Kulu</td>\n",
       "      <td>Anadyr Kolyma</td>\n",
       "      <td>10289.0</td>\n",
       "      <td>61.90</td>\n",
       "      <td>147.42</td>\n",
       "      <td>617.1</td>\n",
       "      <td>1942</td>\n",
       "      <td>1994</td>\n",
       "      <td>100.0</td>\n",
       "      <td>0.0</td>\n",
       "      <td>0.0</td>\n",
       "      <td>0.0</td>\n",
       "      <td>0.0</td>\n",
       "      <td>Continuous</td>\n",
       "      <td>Continuous</td>\n",
       "    </tr>\n",
       "    <tr>\n",
       "      <th>2</th>\n",
       "      <td>1151</td>\n",
       "      <td>Detrin at Detrin</td>\n",
       "      <td>Anadyr Kolyma</td>\n",
       "      <td>3237.0</td>\n",
       "      <td>61.13</td>\n",
       "      <td>149.67</td>\n",
       "      <td>556.5</td>\n",
       "      <td>1956</td>\n",
       "      <td>2001</td>\n",
       "      <td>100.0</td>\n",
       "      <td>0.0</td>\n",
       "      <td>0.0</td>\n",
       "      <td>0.0</td>\n",
       "      <td>0.0</td>\n",
       "      <td>Continuous</td>\n",
       "      <td>Continuous</td>\n",
       "    </tr>\n",
       "    <tr>\n",
       "      <th>3</th>\n",
       "      <td>1176</td>\n",
       "      <td>Bokhalcha at 5.4 km from ust'ya</td>\n",
       "      <td>Anadyr Kolyma</td>\n",
       "      <td>13551.0</td>\n",
       "      <td>62.10</td>\n",
       "      <td>150.67</td>\n",
       "      <td>334.0</td>\n",
       "      <td>1934</td>\n",
       "      <td>1998</td>\n",
       "      <td>100.0</td>\n",
       "      <td>0.0</td>\n",
       "      <td>0.0</td>\n",
       "      <td>0.0</td>\n",
       "      <td>0.0</td>\n",
       "      <td>Continuous</td>\n",
       "      <td>Continuous</td>\n",
       "    </tr>\n",
       "    <tr>\n",
       "      <th>4</th>\n",
       "      <td>1397</td>\n",
       "      <td>Anuy at Ostrovnoye</td>\n",
       "      <td>Anadyr Kolyma</td>\n",
       "      <td>30050.0</td>\n",
       "      <td>68.10</td>\n",
       "      <td>164.17</td>\n",
       "      <td>3.0</td>\n",
       "      <td>1960</td>\n",
       "      <td>1988</td>\n",
       "      <td>100.0</td>\n",
       "      <td>0.0</td>\n",
       "      <td>0.0</td>\n",
       "      <td>0.0</td>\n",
       "      <td>0.0</td>\n",
       "      <td>Continuous</td>\n",
       "      <td>Continuous</td>\n",
       "    </tr>\n",
       "  </tbody>\n",
       "</table>\n",
       "</div>"
      ],
      "text/plain": [
       "   Station ID#                             Name          Basin  \\\n",
       "0         1001                 Kolyma at Orotuk  Anadyr Kolyma   \n",
       "1         1095                     Kulu at Kulu  Anadyr Kolyma   \n",
       "2         1151                 Detrin at Detrin  Anadyr Kolyma   \n",
       "3         1176  Bokhalcha at 5.4 km from ust'ya  Anadyr Kolyma   \n",
       "4         1397               Anuy at Ostrovnoye  Anadyr Kolyma   \n",
       "\n",
       "   Catchment area (km2)  Latitude  Longitude  Station elevation (m.a.s.l.)  \\\n",
       "0               43776.0     62.12     148.47                         478.2   \n",
       "1               10289.0     61.90     147.42                         617.1   \n",
       "2                3237.0     61.13     149.67                         556.5   \n",
       "3               13551.0     62.10     150.67                         334.0   \n",
       "4               30050.0     68.10     164.17                           3.0   \n",
       "\n",
       "   Start year  End year  Continuous permafrost (%)  \\\n",
       "0        1968      1996                      100.0   \n",
       "1        1942      1994                      100.0   \n",
       "2        1956      2001                      100.0   \n",
       "3        1934      1998                      100.0   \n",
       "4        1960      1988                      100.0   \n",
       "\n",
       "   Discontinuous permafrost (%)  Sporadic permafrost (%)  \\\n",
       "0                           0.0                      0.0   \n",
       "1                           0.0                      0.0   \n",
       "2                           0.0                      0.0   \n",
       "3                           0.0                      0.0   \n",
       "4                           0.0                      0.0   \n",
       "\n",
       "   Isolated permafrost (%)  No permafrost (%) Primary permafrost type  \\\n",
       "0                      0.0                0.0              Continuous   \n",
       "1                      0.0                0.0              Continuous   \n",
       "2                      0.0                0.0              Continuous   \n",
       "3                      0.0                0.0              Continuous   \n",
       "4                      0.0                0.0              Continuous   \n",
       "\n",
       "  Prior primary permafrost type  \n",
       "0                           NaN  \n",
       "1                    Continuous  \n",
       "2                    Continuous  \n",
       "3                    Continuous  \n",
       "4                    Continuous  "
      ]
     },
     "execution_count": 11,
     "metadata": {},
     "output_type": "execute_result"
    }
   ],
   "source": [
    "df.head()"
   ]
  },
  {
   "cell_type": "markdown",
   "id": "6ec1578e",
   "metadata": {},
   "source": [
    "Now try merging this dataframe with the results from Evans (2020) asking about baseflow trends"
   ]
  },
  {
   "cell_type": "code",
   "execution_count": 12,
   "id": "82249ec3",
   "metadata": {},
   "outputs": [
    {
     "data": {
      "text/html": [
       "<div>\n",
       "<style scoped>\n",
       "    .dataframe tbody tr th:only-of-type {\n",
       "        vertical-align: middle;\n",
       "    }\n",
       "\n",
       "    .dataframe tbody tr th {\n",
       "        vertical-align: top;\n",
       "    }\n",
       "\n",
       "    .dataframe thead th {\n",
       "        text-align: right;\n",
       "    }\n",
       "</style>\n",
       "<table border=\"1\" class=\"dataframe\">\n",
       "  <thead>\n",
       "    <tr style=\"text-align: right;\">\n",
       "      <th></th>\n",
       "      <th>Station ID#</th>\n",
       "      <th>Primary permafrost type</th>\n",
       "      <th>Trend in recession intercept (%)</th>\n",
       "      <th>Trend in recession intercept 1958–1989 (%)</th>\n",
       "      <th>Minimum discharge ?% 1958–1989†</th>\n",
       "      <th>Station ID#.1</th>\n",
       "      <th>Primary permafrost type.1</th>\n",
       "      <th>Trend in recession intercept (%).1</th>\n",
       "      <th>Trend in recession intercept 1958–1989 (%).1</th>\n",
       "      <th>Minimum discharge ?% 1958–1989†.1</th>\n",
       "      <th>Station ID#.2</th>\n",
       "      <th>Primary permafrost type.2</th>\n",
       "      <th>Trend in recession intercept (%).2</th>\n",
       "      <th>Trend in recession intercept 1958–1989 (%).2</th>\n",
       "      <th>Minimum discharge ?% 1958–1989†.2</th>\n",
       "    </tr>\n",
       "  </thead>\n",
       "  <tbody>\n",
       "    <tr>\n",
       "      <th>0</th>\n",
       "      <td>1,001</td>\n",
       "      <td>C</td>\n",
       "      <td>0.1</td>\n",
       "      <td>NaN</td>\n",
       "      <td>NaN</td>\n",
       "      <td>3,518</td>\n",
       "      <td>C</td>\n",
       "      <td>0.02</td>\n",
       "      <td>NaN</td>\n",
       "      <td>NaN</td>\n",
       "      <td>10,117</td>\n",
       "      <td>S</td>\n",
       "      <td>?0.03</td>\n",
       "      <td>NaN</td>\n",
       "      <td>NaN</td>\n",
       "    </tr>\n",
       "    <tr>\n",
       "      <th>1</th>\n",
       "      <td>1,095</td>\n",
       "      <td>C</td>\n",
       "      <td>?0.03</td>\n",
       "      <td>0.09</td>\n",
       "      <td>7.18</td>\n",
       "      <td>7,015</td>\n",
       "      <td>C</td>\n",
       "      <td>?0.03</td>\n",
       "      <td>?0.06</td>\n",
       "      <td>6.85</td>\n",
       "      <td>10,126</td>\n",
       "      <td>N</td>\n",
       "      <td>0.01</td>\n",
       "      <td>0.14</td>\n",
       "      <td>?6.17</td>\n",
       "    </tr>\n",
       "    <tr>\n",
       "      <th>2</th>\n",
       "      <td>1,151</td>\n",
       "      <td>C</td>\n",
       "      <td>0.01</td>\n",
       "      <td>0.14</td>\n",
       "      <td>15.65</td>\n",
       "      <td>7,024</td>\n",
       "      <td>C</td>\n",
       "      <td>?0.03‡</td>\n",
       "      <td>0.02</td>\n",
       "      <td>3</td>\n",
       "      <td>10,176</td>\n",
       "      <td>N</td>\n",
       "      <td>?0.16*</td>\n",
       "      <td>?0.08</td>\n",
       "      <td>23.69</td>\n",
       "    </tr>\n",
       "    <tr>\n",
       "      <th>3</th>\n",
       "      <td>1,176</td>\n",
       "      <td>C</td>\n",
       "      <td>0.04</td>\n",
       "      <td>0.10</td>\n",
       "      <td>22.16</td>\n",
       "      <td>7,036</td>\n",
       "      <td>S</td>\n",
       "      <td>?0.05‡</td>\n",
       "      <td>NaN</td>\n",
       "      <td>NaN</td>\n",
       "      <td>10,219</td>\n",
       "      <td>N</td>\n",
       "      <td>?0.29**</td>\n",
       "      <td>?0.26‡</td>\n",
       "      <td>?28.93</td>\n",
       "    </tr>\n",
       "    <tr>\n",
       "      <th>4</th>\n",
       "      <td>1,397</td>\n",
       "      <td>C</td>\n",
       "      <td>0.09</td>\n",
       "      <td>NaN</td>\n",
       "      <td>NaN</td>\n",
       "      <td>7,072</td>\n",
       "      <td>C</td>\n",
       "      <td>?0.01</td>\n",
       "      <td>0.07</td>\n",
       "      <td>4.76</td>\n",
       "      <td>10,259</td>\n",
       "      <td>I</td>\n",
       "      <td>?0.11</td>\n",
       "      <td>NaN</td>\n",
       "      <td>NaN</td>\n",
       "    </tr>\n",
       "  </tbody>\n",
       "</table>\n",
       "</div>"
      ],
      "text/plain": [
       "  Station ID# Primary permafrost type Trend in recession intercept (%)  \\\n",
       "0       1,001                       C                              0.1   \n",
       "1       1,095                       C                            ?0.03   \n",
       "2       1,151                       C                             0.01   \n",
       "3       1,176                       C                             0.04   \n",
       "4       1,397                       C                             0.09   \n",
       "\n",
       "   Trend in recession intercept 1958–1989 (%) Minimum discharge ?% 1958–1989†  \\\n",
       "0                                         NaN                             NaN   \n",
       "1                                        0.09                            7.18   \n",
       "2                                        0.14                           15.65   \n",
       "3                                        0.10                           22.16   \n",
       "4                                         NaN                             NaN   \n",
       "\n",
       "  Station ID#.1 Primary permafrost type.1 Trend in recession intercept (%).1  \\\n",
       "0         3,518                         C                               0.02   \n",
       "1         7,015                         C                              ?0.03   \n",
       "2         7,024                         C                             ?0.03‡   \n",
       "3         7,036                         S                             ?0.05‡   \n",
       "4         7,072                         C                              ?0.01   \n",
       "\n",
       "  Trend in recession intercept 1958–1989 (%).1  \\\n",
       "0                                          NaN   \n",
       "1                                        ?0.06   \n",
       "2                                         0.02   \n",
       "3                                          NaN   \n",
       "4                                         0.07   \n",
       "\n",
       "  Minimum discharge ?% 1958–1989†.1 Station ID#.2 Primary permafrost type.2  \\\n",
       "0                               NaN        10,117                         S   \n",
       "1                              6.85        10,126                         N   \n",
       "2                                 3        10,176                         N   \n",
       "3                               NaN        10,219                         N   \n",
       "4                              4.76        10,259                         I   \n",
       "\n",
       "  Trend in recession intercept (%).2  \\\n",
       "0                              ?0.03   \n",
       "1                               0.01   \n",
       "2                             ?0.16*   \n",
       "3                            ?0.29**   \n",
       "4                              ?0.11   \n",
       "\n",
       "  Trend in recession intercept 1958–1989 (%).2  \\\n",
       "0                                          NaN   \n",
       "1                                         0.14   \n",
       "2                                        ?0.08   \n",
       "3                                       ?0.26‡   \n",
       "4                                          NaN   \n",
       "\n",
       "  Minimum discharge ?% 1958–1989†.2  \n",
       "0                               NaN  \n",
       "1                             ?6.17  \n",
       "2                             23.69  \n",
       "3                            ?28.93  \n",
       "4                               NaN  "
      ]
     },
     "execution_count": 12,
     "metadata": {},
     "output_type": "execute_result"
    }
   ],
   "source": [
    "results = pd.read_csv('data_tables/evans_hydro_table_1.csv', encoding = \"windows-1254\")\n",
    "results.head()"
   ]
  },
  {
   "cell_type": "markdown",
   "id": "a37a66f5",
   "metadata": {},
   "source": [
    "Wow, that is an ugly dataset! We have to re-arrange the columns and get rid of those special characters. "
   ]
  },
  {
   "cell_type": "code",
   "execution_count": 13,
   "id": "7d3fa694",
   "metadata": {},
   "outputs": [],
   "source": [
    "# Data cleaning..."
   ]
  },
  {
   "cell_type": "code",
   "execution_count": 14,
   "id": "98e4c93b",
   "metadata": {},
   "outputs": [],
   "source": [
    "# Merge that dataframe with the original dataframe..."
   ]
  },
  {
   "cell_type": "markdown",
   "id": "16fa6d5c",
   "metadata": {},
   "source": [
    "Now we will turn that \"big\" dataset into shapefiles! You can do this with any dataset with coordinates, as shown below:"
   ]
  },
  {
   "cell_type": "code",
   "execution_count": 15,
   "id": "c9444bbd",
   "metadata": {},
   "outputs": [],
   "source": [
    "# Get geometry from dataframe and turn it into a GeoDataFrame\n",
    "geometry = [Point(xy) for xy in zip(df.Longitude, df.Latitude)]\n",
    "df_drop = df.drop(['Longitude', 'Latitude'], axis=1)\n",
    "stations = GeoDataFrame(df_drop, crs=\"EPSG:4326\", geometry=geometry)"
   ]
  },
  {
   "cell_type": "code",
   "execution_count": 16,
   "id": "88a4a873",
   "metadata": {},
   "outputs": [
    {
     "data": {
      "text/html": [
       "<div>\n",
       "<style scoped>\n",
       "    .dataframe tbody tr th:only-of-type {\n",
       "        vertical-align: middle;\n",
       "    }\n",
       "\n",
       "    .dataframe tbody tr th {\n",
       "        vertical-align: top;\n",
       "    }\n",
       "\n",
       "    .dataframe thead th {\n",
       "        text-align: right;\n",
       "    }\n",
       "</style>\n",
       "<table border=\"1\" class=\"dataframe\">\n",
       "  <thead>\n",
       "    <tr style=\"text-align: right;\">\n",
       "      <th></th>\n",
       "      <th>Station ID#</th>\n",
       "      <th>Name</th>\n",
       "      <th>Basin</th>\n",
       "      <th>Catchment area (km2)</th>\n",
       "      <th>Station elevation (m.a.s.l.)</th>\n",
       "      <th>Start year</th>\n",
       "      <th>End year</th>\n",
       "      <th>Continuous permafrost (%)</th>\n",
       "      <th>Discontinuous permafrost (%)</th>\n",
       "      <th>Sporadic permafrost (%)</th>\n",
       "      <th>Isolated permafrost (%)</th>\n",
       "      <th>No permafrost (%)</th>\n",
       "      <th>Primary permafrost type</th>\n",
       "      <th>Prior primary permafrost type</th>\n",
       "      <th>geometry</th>\n",
       "    </tr>\n",
       "  </thead>\n",
       "  <tbody>\n",
       "    <tr>\n",
       "      <th>0</th>\n",
       "      <td>1001</td>\n",
       "      <td>Kolyma at Orotuk</td>\n",
       "      <td>Anadyr Kolyma</td>\n",
       "      <td>43776.0</td>\n",
       "      <td>478.2</td>\n",
       "      <td>1968</td>\n",
       "      <td>1996</td>\n",
       "      <td>100.0</td>\n",
       "      <td>0.0</td>\n",
       "      <td>0.0</td>\n",
       "      <td>0.0</td>\n",
       "      <td>0.0</td>\n",
       "      <td>Continuous</td>\n",
       "      <td>NaN</td>\n",
       "      <td>POINT (148.47000 62.12000)</td>\n",
       "    </tr>\n",
       "    <tr>\n",
       "      <th>1</th>\n",
       "      <td>1095</td>\n",
       "      <td>Kulu at Kulu</td>\n",
       "      <td>Anadyr Kolyma</td>\n",
       "      <td>10289.0</td>\n",
       "      <td>617.1</td>\n",
       "      <td>1942</td>\n",
       "      <td>1994</td>\n",
       "      <td>100.0</td>\n",
       "      <td>0.0</td>\n",
       "      <td>0.0</td>\n",
       "      <td>0.0</td>\n",
       "      <td>0.0</td>\n",
       "      <td>Continuous</td>\n",
       "      <td>NaN</td>\n",
       "      <td>POINT (147.42000 61.90000)</td>\n",
       "    </tr>\n",
       "    <tr>\n",
       "      <th>2</th>\n",
       "      <td>1151</td>\n",
       "      <td>Detrin at Detrin</td>\n",
       "      <td>Anadyr Kolyma</td>\n",
       "      <td>3237.0</td>\n",
       "      <td>556.5</td>\n",
       "      <td>1956</td>\n",
       "      <td>2001</td>\n",
       "      <td>100.0</td>\n",
       "      <td>0.0</td>\n",
       "      <td>0.0</td>\n",
       "      <td>0.0</td>\n",
       "      <td>0.0</td>\n",
       "      <td>Continuous</td>\n",
       "      <td>NaN</td>\n",
       "      <td>POINT (149.67000 61.13000)</td>\n",
       "    </tr>\n",
       "    <tr>\n",
       "      <th>3</th>\n",
       "      <td>1176</td>\n",
       "      <td>Bokhalcha at 5.4 km from ust'ya</td>\n",
       "      <td>Anadyr Kolyma</td>\n",
       "      <td>13551.0</td>\n",
       "      <td>334.0</td>\n",
       "      <td>1934</td>\n",
       "      <td>1998</td>\n",
       "      <td>100.0</td>\n",
       "      <td>0.0</td>\n",
       "      <td>0.0</td>\n",
       "      <td>0.0</td>\n",
       "      <td>0.0</td>\n",
       "      <td>Continuous</td>\n",
       "      <td>NaN</td>\n",
       "      <td>POINT (150.67000 62.10000)</td>\n",
       "    </tr>\n",
       "    <tr>\n",
       "      <th>4</th>\n",
       "      <td>1397</td>\n",
       "      <td>Anuy at Ostrovnoye</td>\n",
       "      <td>Anadyr Kolyma</td>\n",
       "      <td>30050.0</td>\n",
       "      <td>3.0</td>\n",
       "      <td>1960</td>\n",
       "      <td>1988</td>\n",
       "      <td>100.0</td>\n",
       "      <td>0.0</td>\n",
       "      <td>0.0</td>\n",
       "      <td>0.0</td>\n",
       "      <td>0.0</td>\n",
       "      <td>Continuous</td>\n",
       "      <td>NaN</td>\n",
       "      <td>POINT (164.17000 68.10000)</td>\n",
       "    </tr>\n",
       "  </tbody>\n",
       "</table>\n",
       "</div>"
      ],
      "text/plain": [
       "   Station ID#                             Name          Basin  \\\n",
       "0         1001                 Kolyma at Orotuk  Anadyr Kolyma   \n",
       "1         1095                     Kulu at Kulu  Anadyr Kolyma   \n",
       "2         1151                 Detrin at Detrin  Anadyr Kolyma   \n",
       "3         1176  Bokhalcha at 5.4 km from ust'ya  Anadyr Kolyma   \n",
       "4         1397               Anuy at Ostrovnoye  Anadyr Kolyma   \n",
       "\n",
       "   Catchment area (km2)  Station elevation (m.a.s.l.)  Start year  End year  \\\n",
       "0               43776.0                         478.2        1968      1996   \n",
       "1               10289.0                         617.1        1942      1994   \n",
       "2                3237.0                         556.5        1956      2001   \n",
       "3               13551.0                         334.0        1934      1998   \n",
       "4               30050.0                           3.0        1960      1988   \n",
       "\n",
       "   Continuous permafrost (%)  Discontinuous permafrost (%)  \\\n",
       "0                      100.0                           0.0   \n",
       "1                      100.0                           0.0   \n",
       "2                      100.0                           0.0   \n",
       "3                      100.0                           0.0   \n",
       "4                      100.0                           0.0   \n",
       "\n",
       "   Sporadic permafrost (%)  Isolated permafrost (%)  No permafrost (%)  \\\n",
       "0                      0.0                      0.0                0.0   \n",
       "1                      0.0                      0.0                0.0   \n",
       "2                      0.0                      0.0                0.0   \n",
       "3                      0.0                      0.0                0.0   \n",
       "4                      0.0                      0.0                0.0   \n",
       "\n",
       "  Primary permafrost type  Prior primary permafrost type  \\\n",
       "0              Continuous                            NaN   \n",
       "1              Continuous                            NaN   \n",
       "2              Continuous                            NaN   \n",
       "3              Continuous                            NaN   \n",
       "4              Continuous                            NaN   \n",
       "\n",
       "                     geometry  \n",
       "0  POINT (148.47000 62.12000)  \n",
       "1  POINT (147.42000 61.90000)  \n",
       "2  POINT (149.67000 61.13000)  \n",
       "3  POINT (150.67000 62.10000)  \n",
       "4  POINT (164.17000 68.10000)  "
      ]
     },
     "execution_count": 16,
     "metadata": {},
     "output_type": "execute_result"
    }
   ],
   "source": [
    "stations.head()"
   ]
  },
  {
   "cell_type": "markdown",
   "id": "8238ee35",
   "metadata": {},
   "source": [
    "Now that you have a GeoDataFrame, you can plot the data in space. Use the world map as your backdrop for your station data. Consult GeoPanda's [Mapping and Plotting Tools](https://geopandas.org/en/stable/docs/user_guide/mapping.html) for a guide"
   ]
  },
  {
   "cell_type": "code",
   "execution_count": 17,
   "id": "7dc00051",
   "metadata": {},
   "outputs": [
    {
     "data": {
      "text/plain": [
       "(40.13, 80.13)"
      ]
     },
     "execution_count": 17,
     "metadata": {},
     "output_type": "execute_result"
    },
    {
     "data": {
      "image/png": "[encoded data removed]",
      "text/plain": [
       "<Figure size 648x360 with 1 Axes>"
      ]
     },
     "metadata": {
      "needs_background": "light"
     },
     "output_type": "display_data"
    }
   ],
   "source": [
    "# Check it out!\n",
    "fig, ax = plt.subplots(figsize=(9,5))\n",
    "world = gpd.read_file(gpd.datasets.get_path('naturalearth_lowres'))\n",
    "world.boundary.plot(ax=ax)\n",
    "stations.plot(column=\"Primary permafrost type\", legend=True, ax=ax)\n",
    "\n",
    "xlim = ([stations.total_bounds[0]-10,  stations.total_bounds[2]+10])\n",
    "ylim = ([stations.total_bounds[1]-10,  stations.total_bounds[3]+10])\n",
    "\n",
    "ax.set_xlim(xlim)\n",
    "ax.set_ylim(ylim)"
   ]
  },
  {
   "cell_type": "markdown",
   "id": "c300b73e",
   "metadata": {},
   "source": [
    "Can you reproduce the map in Figure 6? Which columns would you choose color and symbols by?"
   ]
  },
  {
   "cell_type": "code",
   "execution_count": 18,
   "id": "ad8231bb",
   "metadata": {},
   "outputs": [],
   "source": [
    "# Reproduced Figure 6"
   ]
  },
  {
   "cell_type": "markdown",
   "id": "28f16331",
   "metadata": {},
   "source": [
    "## Get watershed shapefiles"
   ]
  },
  {
   "cell_type": "code",
   "execution_count": 19,
   "id": "2650da6b",
   "metadata": {},
   "outputs": [],
   "source": [
    "watersheds = gpd.read_file(\"gis_files/basins_attributes_merged.shp\")"
   ]
  },
  {
   "cell_type": "code",
   "execution_count": 20,
   "id": "8fb20431",
   "metadata": {},
   "outputs": [
    {
     "data": {
      "text/html": [
       "<div>\n",
       "<style scoped>\n",
       "    .dataframe tbody tr th:only-of-type {\n",
       "        vertical-align: middle;\n",
       "    }\n",
       "\n",
       "    .dataframe tbody tr th {\n",
       "        vertical-align: top;\n",
       "    }\n",
       "\n",
       "    .dataframe thead th {\n",
       "        text-align: right;\n",
       "    }\n",
       "</style>\n",
       "<table border=\"1\" class=\"dataframe\">\n",
       "  <thead>\n",
       "    <tr style=\"text-align: right;\">\n",
       "      <th></th>\n",
       "      <th>Station ID</th>\n",
       "      <th>Name</th>\n",
       "      <th>Basin</th>\n",
       "      <th>Catchment</th>\n",
       "      <th>Latitude</th>\n",
       "      <th>Longitude</th>\n",
       "      <th>Station el</th>\n",
       "      <th>Start year</th>\n",
       "      <th>End year</th>\n",
       "      <th>Continuous</th>\n",
       "      <th>Discontinu</th>\n",
       "      <th>Sporadic p</th>\n",
       "      <th>Isolated p</th>\n",
       "      <th>No permafr</th>\n",
       "      <th>Primary pe</th>\n",
       "      <th>Prior prim</th>\n",
       "      <th>da_km2</th>\n",
       "      <th>geometry</th>\n",
       "    </tr>\n",
       "  </thead>\n",
       "  <tbody>\n",
       "    <tr>\n",
       "      <th>0</th>\n",
       "      <td>1001</td>\n",
       "      <td>Kolyma at Orotuk</td>\n",
       "      <td>Anadyr Kolyma</td>\n",
       "      <td>43776.0</td>\n",
       "      <td>62.12</td>\n",
       "      <td>148.47</td>\n",
       "      <td>478.2</td>\n",
       "      <td>1968</td>\n",
       "      <td>1996</td>\n",
       "      <td>100.0</td>\n",
       "      <td>0.0</td>\n",
       "      <td>0.0</td>\n",
       "      <td>0.0</td>\n",
       "      <td>0.0</td>\n",
       "      <td>Continuous</td>\n",
       "      <td>None</td>\n",
       "      <td>42554.279935</td>\n",
       "      <td>POLYGON ((145.25473 61.66054, 145.25360 61.656...</td>\n",
       "    </tr>\n",
       "    <tr>\n",
       "      <th>1</th>\n",
       "      <td>1095</td>\n",
       "      <td>Kulu at Kulu</td>\n",
       "      <td>Anadyr Kolyma</td>\n",
       "      <td>10289.0</td>\n",
       "      <td>61.90</td>\n",
       "      <td>147.42</td>\n",
       "      <td>617.1</td>\n",
       "      <td>1942</td>\n",
       "      <td>1994</td>\n",
       "      <td>100.0</td>\n",
       "      <td>0.0</td>\n",
       "      <td>0.0</td>\n",
       "      <td>0.0</td>\n",
       "      <td>0.0</td>\n",
       "      <td>Continuous</td>\n",
       "      <td>Continuous</td>\n",
       "      <td>10816.833219</td>\n",
       "      <td>POLYGON ((145.50833 61.71250, 145.50196 61.713...</td>\n",
       "    </tr>\n",
       "    <tr>\n",
       "      <th>2</th>\n",
       "      <td>1151</td>\n",
       "      <td>Detrin at Detrin</td>\n",
       "      <td>Anadyr Kolyma</td>\n",
       "      <td>3237.0</td>\n",
       "      <td>61.13</td>\n",
       "      <td>149.67</td>\n",
       "      <td>556.5</td>\n",
       "      <td>1956</td>\n",
       "      <td>2001</td>\n",
       "      <td>100.0</td>\n",
       "      <td>0.0</td>\n",
       "      <td>0.0</td>\n",
       "      <td>0.0</td>\n",
       "      <td>0.0</td>\n",
       "      <td>Continuous</td>\n",
       "      <td>Continuous</td>\n",
       "      <td>3947.644573</td>\n",
       "      <td>POLYGON ((149.07881 60.63924, 149.07501 60.635...</td>\n",
       "    </tr>\n",
       "    <tr>\n",
       "      <th>3</th>\n",
       "      <td>1176</td>\n",
       "      <td>Bokhalcha at 5.4 km from ust'ya</td>\n",
       "      <td>Anadyr Kolyma</td>\n",
       "      <td>13551.0</td>\n",
       "      <td>62.10</td>\n",
       "      <td>150.67</td>\n",
       "      <td>334.0</td>\n",
       "      <td>1934</td>\n",
       "      <td>1998</td>\n",
       "      <td>100.0</td>\n",
       "      <td>0.0</td>\n",
       "      <td>0.0</td>\n",
       "      <td>0.0</td>\n",
       "      <td>0.0</td>\n",
       "      <td>Continuous</td>\n",
       "      <td>Continuous</td>\n",
       "      <td>13489.216398</td>\n",
       "      <td>POLYGON ((150.05769 60.63547, 150.05481 60.639...</td>\n",
       "    </tr>\n",
       "    <tr>\n",
       "      <th>4</th>\n",
       "      <td>1397</td>\n",
       "      <td>Anuy at Ostrovnoye</td>\n",
       "      <td>Anadyr Kolyma</td>\n",
       "      <td>30050.0</td>\n",
       "      <td>68.10</td>\n",
       "      <td>164.17</td>\n",
       "      <td>3.0</td>\n",
       "      <td>1960</td>\n",
       "      <td>1988</td>\n",
       "      <td>100.0</td>\n",
       "      <td>0.0</td>\n",
       "      <td>0.0</td>\n",
       "      <td>0.0</td>\n",
       "      <td>0.0</td>\n",
       "      <td>Continuous</td>\n",
       "      <td>Continuous</td>\n",
       "      <td>30159.400372</td>\n",
       "      <td>POLYGON ((166.66193 67.10196, 166.65794 67.096...</td>\n",
       "    </tr>\n",
       "  </tbody>\n",
       "</table>\n",
       "</div>"
      ],
      "text/plain": [
       "   Station ID                             Name          Basin  Catchment  \\\n",
       "0        1001                 Kolyma at Orotuk  Anadyr Kolyma    43776.0   \n",
       "1        1095                     Kulu at Kulu  Anadyr Kolyma    10289.0   \n",
       "2        1151                 Detrin at Detrin  Anadyr Kolyma     3237.0   \n",
       "3        1176  Bokhalcha at 5.4 km from ust'ya  Anadyr Kolyma    13551.0   \n",
       "4        1397               Anuy at Ostrovnoye  Anadyr Kolyma    30050.0   \n",
       "\n",
       "   Latitude  Longitude  Station el  Start year  End year  Continuous  \\\n",
       "0     62.12     148.47       478.2        1968      1996       100.0   \n",
       "1     61.90     147.42       617.1        1942      1994       100.0   \n",
       "2     61.13     149.67       556.5        1956      2001       100.0   \n",
       "3     62.10     150.67       334.0        1934      1998       100.0   \n",
       "4     68.10     164.17         3.0        1960      1988       100.0   \n",
       "\n",
       "   Discontinu  Sporadic p  Isolated p  No permafr  Primary pe  Prior prim  \\\n",
       "0         0.0         0.0         0.0         0.0  Continuous        None   \n",
       "1         0.0         0.0         0.0         0.0  Continuous  Continuous   \n",
       "2         0.0         0.0         0.0         0.0  Continuous  Continuous   \n",
       "3         0.0         0.0         0.0         0.0  Continuous  Continuous   \n",
       "4         0.0         0.0         0.0         0.0  Continuous  Continuous   \n",
       "\n",
       "         da_km2                                           geometry  \n",
       "0  42554.279935  POLYGON ((145.25473 61.66054, 145.25360 61.656...  \n",
       "1  10816.833219  POLYGON ((145.50833 61.71250, 145.50196 61.713...  \n",
       "2   3947.644573  POLYGON ((149.07881 60.63924, 149.07501 60.635...  \n",
       "3  13489.216398  POLYGON ((150.05769 60.63547, 150.05481 60.639...  \n",
       "4  30159.400372  POLYGON ((166.66193 67.10196, 166.65794 67.096...  "
      ]
     },
     "execution_count": 20,
     "metadata": {},
     "output_type": "execute_result"
    }
   ],
   "source": [
    "# Shapefile column names are limited to 10 characters, which is dumb)\n",
    "watersheds.head()"
   ]
  },
  {
   "cell_type": "code",
   "execution_count": 21,
   "id": "027f2700",
   "metadata": {},
   "outputs": [
    {
     "data": {
      "text/plain": [
       "(39.466666667, 80.72916802300348)"
      ]
     },
     "execution_count": 21,
     "metadata": {},
     "output_type": "execute_result"
    },
    {
     "data": {
      "image/png": "[encoded data removed]",
      "text/plain": [
       "<Figure size 648x360 with 1 Axes>"
      ]
     },
     "metadata": {
      "needs_background": "light"
     },
     "output_type": "display_data"
    }
   ],
   "source": [
    "# Check it out!\n",
    "fig, ax = plt.subplots(figsize=(9,5))\n",
    "world = gpd.read_file(gpd.datasets.get_path('naturalearth_lowres'))\n",
    "world.boundary.plot(ax=ax)\n",
    "watersheds.plot(column=\"Primary pe\", legend=True, ax=ax)\n",
    "\n",
    "xlim = ([watersheds.total_bounds[0]-10,  watersheds.total_bounds[2]+10])\n",
    "ylim = ([watersheds.total_bounds[1]-10,  watersheds.total_bounds[3]+10])\n",
    "\n",
    "ax.set_xlim(xlim)\n",
    "ax.set_ylim(ylim)"
   ]
  },
  {
   "cell_type": "code",
   "execution_count": 23,
   "id": "cc750fa3",
   "metadata": {},
   "outputs": [],
   "source": [
    "# Add another fun map!!! Maybe color it by % continuous permafrost so you see a sliding colorbar rather than categorial colors"
   ]
  },
  {
   "cell_type": "markdown",
   "id": "a5c923ad",
   "metadata": {},
   "source": [
    "# Apply - analyze trends within each watershed"
   ]
  },
  {
   "cell_type": "markdown",
   "id": "2ac00b73",
   "metadata": {},
   "source": [
    "This is where I might have us use ee since temporal trends in spectral data are otherwise unwieldy datasets"
   ]
  },
  {
   "cell_type": "markdown",
   "id": "7404169a",
   "metadata": {},
   "source": [
    "If you get to this point let me know"
   ]
  },
  {
   "cell_type": "code",
   "execution_count": 1,
   "id": "3d9b2ac8",
   "metadata": {},
   "outputs": [],
   "source": [
    "# Import packages\n",
    "import ee\n",
    "import matplotlib as mpl\n",
    "import matplotlib.pyplot as plt\n",
    "import matplotlib.path as mpath\n",
    "import numpy as np\n",
    "import os\n",
    "import requests\n",
    "\n",
    "# Initialize EE\n",
    "ee.Initialize()"
   ]
  },
  {
   "cell_type": "code",
   "execution_count": 26,
   "id": "66db5254",
   "metadata": {},
   "outputs": [],
   "source": [
    "waterMask = ee.ImageCollection('MODIS/006/MOD44W').filter(ee.Filter.date('2015-01-01', '2015-01-02')).select('water_mask').first();"
   ]
  },
  {
   "cell_type": "code",
   "execution_count": 27,
   "id": "76da2db9",
   "metadata": {},
   "outputs": [],
   "source": [
    "ndvi = ee.ImageCollection('MODIS/006/MOD13Q1').select('NDVI')"
   ]
  },
  {
   "cell_type": "code",
   "execution_count": 31,
   "id": "c3d030fe",
   "metadata": {},
   "outputs": [],
   "source": [
    "# Mask out water\n",
    "def maskWater (image):\n",
    "    return image.updateMask(waterMask.select('water_mask').lt(1));"
   ]
  },
  {
   "cell_type": "code",
   "execution_count": 37,
   "id": "8befadbd",
   "metadata": {},
   "outputs": [],
   "source": [
    "def scale_factor(image):\n",
    "# scale factor for the MODIS MOD13Q1 product\n",
    "    return image.multiply(0.0001).copyProperties(image, ['system:time_start'])"
   ]
  },
  {
   "cell_type": "code",
   "execution_count": 38,
   "id": "bd5d8b9f",
   "metadata": {},
   "outputs": [],
   "source": [
    "modisMasked = ndvi.map(maskWater);\n",
    "modisMasked = ndvi.map(scale_factor);\n",
    "\n",
    "ndvi = modisMasked"
   ]
  },
  {
   "cell_type": "code",
   "execution_count": 39,
   "id": "dd8ffedf",
   "metadata": {},
   "outputs": [],
   "source": [
    "ndvi_first = ndvi.first()"
   ]
  },
  {
   "cell_type": "code",
   "execution_count": 48,
   "id": "cc2f113c",
   "metadata": {},
   "outputs": [],
   "source": [
    "countries = ee.FeatureCollection('USDOS/LSIB_SIMPLE/2017');\n",
    "roi = countries.filterMetadata('country_na', 'equals', 'Russia');\n"
   ]
  },
  {
   "cell_type": "code",
   "execution_count": 57,
   "id": "f77555a1",
   "metadata": {},
   "outputs": [],
   "source": [
    "russia_ndvi = ndvi_first.clip(roi)"
   ]
  },
  {
   "cell_type": "code",
   "execution_count": 58,
   "id": "3dbc4aa8",
   "metadata": {},
   "outputs": [
    {
     "data": {
      "text/plain": [
       "<ee.image.Image at 0x2aca945bdc90>"
      ]
     },
     "execution_count": 58,
     "metadata": {},
     "output_type": "execute_result"
    }
   ],
   "source": [
    "russia_ndvi"
   ]
  },
  {
   "cell_type": "code",
   "execution_count": 70,
   "id": "5babe626",
   "metadata": {},
   "outputs": [],
   "source": [
    "u_lon =100\n",
    "u_lat = 60\n",
    "u_poi = ee.Geometry.Point(u_lon, u_lat)\n",
    "roi = u_poi.buffer(1e6)"
   ]
  },
  {
   "cell_type": "code",
   "execution_count": 72,
   "id": "725afe34",
   "metadata": {},
   "outputs": [
    {
     "name": "stdout",
     "output_type": "stream",
     "text": [
      "https://earthengine.googleapis.com/v1alpha/projects/earthengine-legacy/thumbnails/d3e62d9f9b019c1bee4639087bd32b88-c0bda8c6230f8d54dc705d6178a5128a:getPixels\n",
      "\n",
      "Please wait while the thumbnail loads, it may take a moment...\n"
     ]
    },
    {
     "data": {
      "text/html": [
       "<img src=\"https://earthengine.googleapis.com/v1alpha/projects/earthengine-legacy/thumbnails/d3e62d9f9b019c1bee4639087bd32b88-c0bda8c6230f8d54dc705d6178a5128a:getPixels\"/>"
      ],
      "text/plain": [
       "<IPython.core.display.Image object>"
      ]
     },
     "execution_count": 72,
     "metadata": {},
     "output_type": "execute_result"
    }
   ],
   "source": [
    "from IPython.display import Image\n",
    "\n",
    "# Create a URL to the styled image for a region around France.\n",
    "url = ndvi_first.getThumbUrl({\n",
    "    'min': -1.0, 'max': 1.0, 'dimensions': 512, 'region': roi,\n",
    "   })\n",
    "print(url)\n",
    "\n",
    "# Display the thumbnail land surface temperature in France.\n",
    "print('\\nPlease wait while the thumbnail loads, it may take a moment...')\n",
    "Image(url=url)"
   ]
  }
 ],
 "metadata": {
  "kernelspec": {
   "display_name": "Python 3 (ipykernel)",
   "language": "python",
   "name": "python3"
  },
  "language_info": {
   "codemirror_mode": {
    "name": "ipython",
    "version": 3
   },
   "file_extension": ".py",
   "mimetype": "text/x-python",
   "name": "python",
   "nbconvert_exporter": "python",
   "pygments_lexer": "ipython3",
   "version": "3.10.2"
  }
 },
 "nbformat": 4,
 "nbformat_minor": 5
}
