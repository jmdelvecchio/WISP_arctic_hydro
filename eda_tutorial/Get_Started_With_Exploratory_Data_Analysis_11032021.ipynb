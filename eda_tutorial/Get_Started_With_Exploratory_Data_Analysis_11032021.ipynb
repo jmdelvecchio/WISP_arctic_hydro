{
 "cells": [
  {
   "cell_type": "markdown",
   "metadata": {
    "id": "w-Kt-kJEhDDg"
   },
   "source": [
    "# **Get Started with Exploratory Data Analysis**\n",
    "\n",
    "**Author:** Jianjun Hua, Statistical Consultant with Information, Technology & Consulting\n",
    "\n",
    "**Purpose:** In this Jupyter notebook, I will be showing you how to perform Exploratory Data Analysis (EDA) using most popular data science python libraries, like `pandas`, `matplotlib`, `seaborn`.\n",
    "\n",
    "**Date:** 11-03-21"
   ]
  },
  {
   "cell_type": "markdown",
   "metadata": {
    "id": "AXm0ZwStzzX0"
   },
   "source": [
    "## **Self-Introduction**\n",
    "\n",
    "*  Statistical Consultant\n",
    "*  Take questions about Statistics & Statistical Software Packages (R, Python, SAS, Stata, SPSS)\n",
    "*  Email: jianjun.hua@dartmouth.edu\n",
    "*  [Research guides](http://researchguides.dartmouth.edu/statapp_koujue)\n",
    "\n"
   ]
  },
  {
   "cell_type": "markdown",
   "metadata": {
    "id": "MS4yYzHPbrpW"
   },
   "source": [
    "## **Dartmouth Machine Learning Club (DMLC)**\n",
    "\n",
    "The mission of DMLC is to build a platform for Dartmouth research community to share and learn about Machine Learning, Deep Learning, AI. Internal and external experts are invited to present at the DMLC meetings. Since the establishment of the interest group, more than 150 faculty, researchers, and students coming across the whole campus (Arts & Sciences, Tuck, Thayer, Geisel) have joined the club and many successful events have been organized and well-received – physical meetings, online video conference sessions, webinars, trainings, etc.\n",
    "\n",
    "Want to join DMLC? - Please click [here](https://teams.microsoft.com/l/team/19%3aa165ad0559744ded9f6e4f5fe988f82f%40thread.skype/conversations?groupId=c87b11fb-98d8-4af6-a8f5-e6d899473761&tenantId=995b0936-48d6-40e5-a31e-bf689ec9446f)!\n",
    "\n",
    "You may also want to join the Slack Workspace for DMLC: \n",
    "\n",
    "dart-machinelearning.slack.com.\n",
    "\n",
    "If you are interested in learning about Python, check out this Slack Workspace for Dartmouth Python Community: \n",
    "\n",
    "dart-pythoncommunity.slack.com"
   ]
  },
  {
   "cell_type": "markdown",
   "metadata": {
    "id": "rzwtmzebhy7W"
   },
   "source": [
    "## **Learning Objectives**\n",
    "\n",
    "Learn how to use some popular data science libraries, like `pandas`, `matplotlib`, `seaborn`, etc. to conduct EDA in Python.\n"
   ]
  },
  {
   "cell_type": "markdown",
   "metadata": {
    "id": "4zF0kEFfj-n9"
   },
   "source": [
    "## **Exploratory Data Analysis (EDA)**\n",
    "\n",
    "EDA is an important and recommended step prior to the training of a (statistical/machine learning) model. EDA exams distribution of the data and the relationship between features via descriptive statistics and visualization techniques. EDA is typically done using numerical and graphical methods. John Tukey (Tukey, 1977) advocated the practice of exploratory data analysis (EDA) as a critical part of the scientific process. \n"
   ]
  },
  {
   "cell_type": "markdown",
   "metadata": {
    "id": "GX5YUvkZkTnM"
   },
   "source": [
    "### **Types of Data**\n",
    "\n",
    "Prior to starting any calculation and visualization, it is very important to understand the types of data which are commonly seen in a statistical study. There are two main types of data: **numerical data (quantitative or continuous)** and **categorical data (qualitative or discrete)**. \n",
    "\n",
    "*   **Numerical data**: a type of data that represent measurements or counts and can be put into a logical order, such as height, weight, age, salary, number of children, etc\n",
    "*   **Categorical data**: a type of data that can take on one of a limited, and usually fixed number of possible values and may be used to group data,  such as gender, race, religion, marital status, educational level, etc.\n",
    "\n",
    "It's a good (common) practice to separate descriptive statistics and visualization for the two types of data.\n",
    "\n",
    "\n"
   ]
  },
  {
   "cell_type": "markdown",
   "metadata": {
    "id": "q06PZcAI6ja-"
   },
   "source": [
    "### **Load the Relevant Libraries**\n"
   ]
  },
  {
   "cell_type": "markdown",
   "metadata": {
    "id": "YZhmnd5j8a4d"
   },
   "source": [
    "The following code loads (imports) the libraries(modules) which will be used for this session:"
   ]
  },
  {
   "cell_type": "code",
   "execution_count": 1,
   "metadata": {
    "id": "V-0Rivd-hwuM"
   },
   "outputs": [],
   "source": [
    "# NumPy is used for working with arrays. \n",
    "# It also has functions for working in domain of linear algebra, fourier transform, and matrices. \n",
    "import numpy as np\n",
    "# pandas is a fast, powerful, flexible and easy to use open source data analysis and manipulation tool,\n",
    "# built on top of the Python programming language. \n",
    "import pandas as pd\n",
    "# Matplotlib is a comprehensive library for creating static, animated, and interactive visualizations in Python.\n",
    "import matplotlib.pyplot as plt\n",
    "# Seaborn is a Python data visualization library based on matplotlib. \n",
    "# It provides a high-level interface for drawing attractive and informative statistical graphics.\n",
    "import seaborn as sns"
   ]
  },
  {
   "cell_type": "markdown",
   "metadata": {
    "id": "BSXsbzfvLw1r"
   },
   "source": [
    "### **Exploring the Auto-MPG dataset**\n",
    "\n",
    "We will use the [auto-mpg dataset](https://www.kaggle.com/uciml/autompg-dataset?select=auto-mpg.csv) for all the demos.  You can also find this dataset on the [UCI machine learning repository](https://archive.ics.uci.edu/ml/datasets/auto+mpg).  \n",
    "\n",
    "<pre>\n",
    "\"The data concerns city-cycle fuel consumption in miles per gallon, \n",
    "to be predicted in terms of 3 multivalued discrete and 5 continuous attributes.\" (Quinlan, 1993)\n",
    "</pre>\n",
    "\n",
    "Attribute Information of the original dataset:\n",
    "\n",
    "<pre>\n",
    "1. mpg: continuous\n",
    "2. cylinders: multi-valued discrete\n",
    "3. displacement: continuous\n",
    "4. horsepower: continuous\n",
    "5. weight: continuous\n",
    "6. acceleration: continuous\n",
    "7. model year: multi-valued discrete\n",
    "8. origin: multi-valued discrete\n",
    "9. car name: string (unique for each instance)\n",
    "</pre>\n",
    "\n",
    "[Download](https://drive.google.com/file/d/1IAxWWTA8juZ_dCjR6fnawh34Tv5JfDoj/view?usp=sharing) and save a copy of the dataset to your local computer."
   ]
  },
  {
   "cell_type": "markdown",
   "metadata": {
    "id": "-L14gL6-8LYL"
   },
   "source": [
    "The following code loads the dataset into a data frame:"
   ]
  },
  {
   "cell_type": "code",
   "execution_count": 2,
   "metadata": {
    "colab": {
     "background_save": true
    },
    "id": "6JoqVgUPLw1v"
   },
   "outputs": [
    {
     "name": "stdout",
     "output_type": "stream",
     "text": [
      "The original column names: \n",
      " ['mpg' 'cylinders' 'displacement' 'horsepower' 'weight' 'acceleration'\n",
      " 'model year' 'origin' 'car name'] \n",
      "\n",
      "Double check after renaming two columns: \n",
      " ['mpg' 'cylinders' 'displacement' 'horsepower' 'weight' 'acceleration'\n",
      " 'year' 'origin' 'name'] \n",
      "\n",
      "    mpg  cylinders  displacement  horsepower  weight  acceleration  year  \\\n",
      "0  18.0          8         307.0       130.0    3504          12.0    70   \n",
      "1  15.0          8         350.0       165.0    3693          11.5    70   \n",
      "2  18.0          8         318.0       150.0    3436          11.0    70   \n",
      "3  16.0          8         304.0       150.0    3433          12.0    70   \n",
      "4  17.0          8         302.0       140.0    3449          10.5    70   \n",
      "\n",
      "   origin                       name  \n",
      "0       1  chevrolet chevelle malibu  \n",
      "1       1          buick skylark 320  \n",
      "2       1         plymouth satellite  \n",
      "3       1              amc rebel sst  \n",
      "4       1                ford torino  \n"
     ]
    }
   ],
   "source": [
    "# Load the auto-mpg dataset into a dataframe named 'df' and retrieve the column names and define the missing values\n",
    "df = pd.read_csv(\"auto-mpg.csv\", header='infer', na_values=['NA','?'])\n",
    "# Print out the original column names\n",
    "print(f'The original column names: \\n {df.columns.values} \\n')\n",
    "# Rename two columns: \"model year\" -> \"year\"; \"car name\" -> \"name\"\n",
    "df.rename(columns={\"model year\": \"year\", \"car name\": \"name\"}, inplace=True)\n",
    "print(f'Double check after renaming two columns: \\n {df.columns.values} \\n')\n",
    "# Print out the first 5 rows in the dataset\n",
    "print(df[0:5])"
   ]
  },
  {
   "cell_type": "code",
   "execution_count": 3,
   "metadata": {
    "colab": {
     "background_save": true
    },
    "id": "WXMXwE0WSM_P"
   },
   "outputs": [
    {
     "name": "stdout",
     "output_type": "stream",
     "text": [
      "<class 'pandas.core.frame.DataFrame'>\n",
      "RangeIndex: 398 entries, 0 to 397\n",
      "Data columns (total 9 columns):\n",
      " #   Column        Non-Null Count  Dtype  \n",
      "---  ------        --------------  -----  \n",
      " 0   mpg           398 non-null    float64\n",
      " 1   cylinders     398 non-null    int64  \n",
      " 2   displacement  398 non-null    float64\n",
      " 3   horsepower    392 non-null    float64\n",
      " 4   weight        398 non-null    int64  \n",
      " 5   acceleration  398 non-null    float64\n",
      " 6   year          398 non-null    int64  \n",
      " 7   origin        398 non-null    int64  \n",
      " 8   name          398 non-null    object \n",
      "dtypes: float64(4), int64(4), object(1)\n",
      "memory usage: 28.1+ KB\n"
     ]
    }
   ],
   "source": [
    "df.info()"
   ]
  },
  {
   "cell_type": "markdown",
   "metadata": {
    "id": "YMQl430mbNYh"
   },
   "source": [
    "## Pre-EDA: Data Wrangling"
   ]
  },
  {
   "cell_type": "markdown",
   "metadata": {
    "id": "Z32Fldo3Lw2Z"
   },
   "source": [
    "### Missing Values\n",
    "\n",
    "Missing values exists in most of real-world data.  Ideally, every row of data will have values for all columns.  However, this is rarely the case.  \n",
    "\n",
    "A common practice is to replace missing values with the mean or the median value for a numeric variable, while the mode (the most frequent value) for a categorical variable.  \n",
    "\n",
    "Most of the values are present in the auto-mpg database.  However, there are missing values in one column. Let's find out which column has missing values. The following code replaces any missing (NA or '?') values in that column with the median:"
   ]
  },
  {
   "cell_type": "code",
   "execution_count": 4,
   "metadata": {
    "colab": {
     "background_save": true
    },
    "id": "L2D6w3VLND9m"
   },
   "outputs": [
    {
     "name": "stdout",
     "output_type": "stream",
     "text": [
      "Number of null values in each column:\n",
      "mpg             0\n",
      "cylinders       0\n",
      "displacement    0\n",
      "horsepower      6\n",
      "weight          0\n",
      "acceleration    0\n",
      "year            0\n",
      "origin          0\n",
      "name            0\n",
      "dtype: int64\n"
     ]
    }
   ],
   "source": [
    "# Display all rows \n",
    "pd.set_option('display.max_rows', 0)\n",
    "# Number of missing (null) values in each column\n",
    "null_counts = df.isnull().sum()\n",
    "print(\"Number of null values in each column:\\n{}\".format(null_counts))"
   ]
  },
  {
   "cell_type": "markdown",
   "metadata": {
    "id": "CxMXLWFHPEkd"
   },
   "source": [
    "From the above, we can see that only `horsepower` has missing values."
   ]
  },
  {
   "cell_type": "code",
   "execution_count": 5,
   "metadata": {
    "colab": {
     "background_save": true
    },
    "id": "mSzBGPPlLw2c"
   },
   "outputs": [
    {
     "name": "stdout",
     "output_type": "stream",
     "text": [
      "horsepower has missing ('na')? True \n",
      "\n",
      "Filling missing values with median of the column \n",
      "\n",
      "horsepower has missing ('na')? False \n",
      "\n"
     ]
    }
   ],
   "source": [
    "# Confirm the missing in `horsepower`\n",
    "print(f\"horsepower has missing ('na')? {pd.isnull(df['horsepower']).values.any()} \\n\")\n",
    "\n",
    "# Fill missing values with the median of the column    \n",
    "print(\"Filling missing values with median of the column \\n\")\n",
    "med = df['horsepower'].median()\n",
    "df['horsepower'] = df['horsepower'].fillna(med)\n",
    "# Confirm all the missing replacement                 \n",
    "print(f\"horsepower has missing ('na')? {pd.isnull(df['horsepower']).values.any()} \\n\")\n",
    "# You can also use the follow code the drop all missing values\n",
    "# df = df.dropna() "
   ]
  },
  {
   "cell_type": "markdown",
   "metadata": {
    "id": "tR3Mljg-Lw2k"
   },
   "source": [
    "### Outliers\n",
    "\n",
    "Outliers are values that appear far away from majority of the data.  Sometimes outliers are simply human errors or systematic errors. However, sometimes, outliers may reflect reality and implicit some unknown phenomena. Usually,  outliers are the values that are more than two standard deviations from the mean. "
   ]
  },
  {
   "cell_type": "code",
   "execution_count": 6,
   "metadata": {
    "colab": {
     "background_save": true
    },
    "id": "8C9NJ704Lw2l"
   },
   "outputs": [],
   "source": [
    "# Remove all rows where the specified column is +/- sd standard deviations\n",
    "def outliers_remover(df, col_name, sd):\n",
    "    drop_rows = df.index[(np.abs(df[col_name] - df[col_name].mean())\n",
    "                          >= (sd * df[col_name].std()))]\n",
    "    df.drop(drop_rows, axis=0, inplace=True)"
   ]
  },
  {
   "cell_type": "markdown",
   "metadata": {
    "id": "U_5zP-KiLw2q"
   },
   "source": [
    "The code below will drop every row from the auto-mpg dataset where the `mpg` column is more than two standard deviations above or below the mean."
   ]
  },
  {
   "cell_type": "code",
   "execution_count": 7,
   "metadata": {
    "colab": {
     "background_save": true
    },
    "id": "Gxi0CR0JLw2r"
   },
   "outputs": [
    {
     "name": "stdout",
     "output_type": "stream",
     "text": [
      "Length before mpg outliers dropped: 398\n",
      "Length after mpg outliers dropped: 388\n"
     ]
    },
    {
     "data": {
      "text/html": [
       "<div>\n",
       "<style scoped>\n",
       "    .dataframe tbody tr th:only-of-type {\n",
       "        vertical-align: middle;\n",
       "    }\n",
       "\n",
       "    .dataframe tbody tr th {\n",
       "        vertical-align: top;\n",
       "    }\n",
       "\n",
       "    .dataframe thead th {\n",
       "        text-align: right;\n",
       "    }\n",
       "</style>\n",
       "<table border=\"1\" class=\"dataframe\">\n",
       "  <thead>\n",
       "    <tr style=\"text-align: right;\">\n",
       "      <th></th>\n",
       "      <th>mpg</th>\n",
       "      <th>cylinders</th>\n",
       "      <th>displacement</th>\n",
       "      <th>horsepower</th>\n",
       "      <th>weight</th>\n",
       "      <th>acceleration</th>\n",
       "      <th>year</th>\n",
       "      <th>origin</th>\n",
       "      <th>name</th>\n",
       "    </tr>\n",
       "  </thead>\n",
       "  <tbody>\n",
       "    <tr>\n",
       "      <th>0</th>\n",
       "      <td>18.0</td>\n",
       "      <td>8</td>\n",
       "      <td>307.0</td>\n",
       "      <td>130.0</td>\n",
       "      <td>3504</td>\n",
       "      <td>12.0</td>\n",
       "      <td>70</td>\n",
       "      <td>1</td>\n",
       "      <td>chevrolet chevelle malibu</td>\n",
       "    </tr>\n",
       "    <tr>\n",
       "      <th>1</th>\n",
       "      <td>15.0</td>\n",
       "      <td>8</td>\n",
       "      <td>350.0</td>\n",
       "      <td>165.0</td>\n",
       "      <td>3693</td>\n",
       "      <td>11.5</td>\n",
       "      <td>70</td>\n",
       "      <td>1</td>\n",
       "      <td>buick skylark 320</td>\n",
       "    </tr>\n",
       "    <tr>\n",
       "      <th>...</th>\n",
       "      <td>...</td>\n",
       "      <td>...</td>\n",
       "      <td>...</td>\n",
       "      <td>...</td>\n",
       "      <td>...</td>\n",
       "      <td>...</td>\n",
       "      <td>...</td>\n",
       "      <td>...</td>\n",
       "      <td>...</td>\n",
       "    </tr>\n",
       "    <tr>\n",
       "      <th>396</th>\n",
       "      <td>28.0</td>\n",
       "      <td>4</td>\n",
       "      <td>120.0</td>\n",
       "      <td>79.0</td>\n",
       "      <td>2625</td>\n",
       "      <td>18.6</td>\n",
       "      <td>82</td>\n",
       "      <td>1</td>\n",
       "      <td>ford ranger</td>\n",
       "    </tr>\n",
       "    <tr>\n",
       "      <th>397</th>\n",
       "      <td>31.0</td>\n",
       "      <td>4</td>\n",
       "      <td>119.0</td>\n",
       "      <td>82.0</td>\n",
       "      <td>2720</td>\n",
       "      <td>19.4</td>\n",
       "      <td>82</td>\n",
       "      <td>1</td>\n",
       "      <td>chevy s-10</td>\n",
       "    </tr>\n",
       "  </tbody>\n",
       "</table>\n",
       "<p>388 rows × 9 columns</p>\n",
       "</div>"
      ],
      "text/plain": [
       "      mpg  cylinders  displacement  horsepower  weight  acceleration  year  origin                       name\n",
       "0    18.0          8         307.0       130.0    3504          12.0    70       1  chevrolet chevelle malibu\n",
       "1    15.0          8         350.0       165.0    3693          11.5    70       1          buick skylark 320\n",
       "..    ...        ...           ...         ...     ...           ...   ...     ...                        ...\n",
       "396  28.0          4         120.0        79.0    2625          18.6    82       1                ford ranger\n",
       "397  31.0          4         119.0        82.0    2720          19.4    82       1                 chevy s-10\n",
       "\n",
       "[388 rows x 9 columns]"
      ]
     },
     "metadata": {},
     "output_type": "display_data"
    }
   ],
   "source": [
    "# Drop outliers in mpg\n",
    "print(f'Length before mpg outliers dropped: {len(df)}')\n",
    "outliers_remover(df,'mpg',2)\n",
    "print(f'Length after mpg outliers dropped: {len(df)}')\n",
    "\n",
    "pd.set_option('display.max_columns', 0)\n",
    "pd.set_option('display.max_rows', 5)\n",
    "display(df)"
   ]
  },
  {
   "cell_type": "markdown",
   "metadata": {
    "id": "XBk6l7yAVxM5"
   },
   "source": [
    "### Sorting a Data Set\n",
    "\n",
    "Sorting dataset allows to order the rows in either ascending or descending order for one or more columns. \n",
    "\n",
    "The following code sorts the dataset by name and displays the first car."
   ]
  },
  {
   "cell_type": "code",
   "execution_count": 8,
   "metadata": {
    "colab": {
     "background_save": true
    },
    "id": "NrSJwWEUVxM6"
   },
   "outputs": [
    {
     "name": "stdout",
     "output_type": "stream",
     "text": [
      "The first car is: amc ambassador brougham\n"
     ]
    },
    {
     "data": {
      "text/html": [
       "<div>\n",
       "<style scoped>\n",
       "    .dataframe tbody tr th:only-of-type {\n",
       "        vertical-align: middle;\n",
       "    }\n",
       "\n",
       "    .dataframe tbody tr th {\n",
       "        vertical-align: top;\n",
       "    }\n",
       "\n",
       "    .dataframe thead th {\n",
       "        text-align: right;\n",
       "    }\n",
       "</style>\n",
       "<table border=\"1\" class=\"dataframe\">\n",
       "  <thead>\n",
       "    <tr style=\"text-align: right;\">\n",
       "      <th></th>\n",
       "      <th>mpg</th>\n",
       "      <th>cylinders</th>\n",
       "      <th>displacement</th>\n",
       "      <th>horsepower</th>\n",
       "      <th>weight</th>\n",
       "      <th>acceleration</th>\n",
       "      <th>year</th>\n",
       "      <th>origin</th>\n",
       "      <th>name</th>\n",
       "    </tr>\n",
       "  </thead>\n",
       "  <tbody>\n",
       "    <tr>\n",
       "      <th>96</th>\n",
       "      <td>13.0</td>\n",
       "      <td>8</td>\n",
       "      <td>360.0</td>\n",
       "      <td>175.0</td>\n",
       "      <td>3821</td>\n",
       "      <td>11.0</td>\n",
       "      <td>73</td>\n",
       "      <td>1</td>\n",
       "      <td>amc ambassador brougham</td>\n",
       "    </tr>\n",
       "    <tr>\n",
       "      <th>9</th>\n",
       "      <td>15.0</td>\n",
       "      <td>8</td>\n",
       "      <td>390.0</td>\n",
       "      <td>190.0</td>\n",
       "      <td>3850</td>\n",
       "      <td>8.5</td>\n",
       "      <td>70</td>\n",
       "      <td>1</td>\n",
       "      <td>amc ambassador dpl</td>\n",
       "    </tr>\n",
       "    <tr>\n",
       "      <th>...</th>\n",
       "      <td>...</td>\n",
       "      <td>...</td>\n",
       "      <td>...</td>\n",
       "      <td>...</td>\n",
       "      <td>...</td>\n",
       "      <td>...</td>\n",
       "      <td>...</td>\n",
       "      <td>...</td>\n",
       "      <td>...</td>\n",
       "    </tr>\n",
       "    <tr>\n",
       "      <th>197</th>\n",
       "      <td>29.0</td>\n",
       "      <td>4</td>\n",
       "      <td>90.0</td>\n",
       "      <td>70.0</td>\n",
       "      <td>1937</td>\n",
       "      <td>14.2</td>\n",
       "      <td>76</td>\n",
       "      <td>2</td>\n",
       "      <td>vw rabbit</td>\n",
       "    </tr>\n",
       "    <tr>\n",
       "      <th>293</th>\n",
       "      <td>31.9</td>\n",
       "      <td>4</td>\n",
       "      <td>89.0</td>\n",
       "      <td>71.0</td>\n",
       "      <td>1925</td>\n",
       "      <td>14.0</td>\n",
       "      <td>79</td>\n",
       "      <td>2</td>\n",
       "      <td>vw rabbit custom</td>\n",
       "    </tr>\n",
       "  </tbody>\n",
       "</table>\n",
       "<p>388 rows × 9 columns</p>\n",
       "</div>"
      ],
      "text/plain": [
       "      mpg  cylinders  displacement  horsepower  weight  acceleration  year  origin                     name\n",
       "96   13.0          8         360.0       175.0    3821          11.0    73       1  amc ambassador brougham\n",
       "9    15.0          8         390.0       190.0    3850           8.5    70       1       amc ambassador dpl\n",
       "..    ...        ...           ...         ...     ...           ...   ...     ...                      ...\n",
       "197  29.0          4          90.0        70.0    1937          14.2    76       2                vw rabbit\n",
       "293  31.9          4          89.0        71.0    1925          14.0    79       2         vw rabbit custom\n",
       "\n",
       "[388 rows x 9 columns]"
      ]
     },
     "metadata": {},
     "output_type": "display_data"
    }
   ],
   "source": [
    "df = df.sort_values(by='name', ascending=True)\n",
    "print(f\"The first car is: {df['name'].iloc[0]}\")\n",
    "      \n",
    "display(df)"
   ]
  },
  {
   "cell_type": "markdown",
   "metadata": {
    "id": "pyM3GAhYN7Er"
   },
   "source": [
    "### Transformation (Rescaling)\n",
    "\n",
    "* **Normalization** refers to the rescaling of variables (columns in a tabular data) to a range of [0,1]\n",
    "\n",
    "* **Standardization** refers to the rescaling of variables with zero mean and unit variance.\n",
    "\n",
    "The following code is used to normalize or standardize the column `mpg`.\n"
   ]
  },
  {
   "cell_type": "code",
   "execution_count": 9,
   "metadata": {
    "colab": {
     "background_save": true
    },
    "id": "H1XhxPpnScr9"
   },
   "outputs": [
    {
     "name": "stdout",
     "output_type": "stream",
     "text": [
      "min is 9.00, max is 39.10, mean is 23.02, std is 7.26\n"
     ]
    },
    {
     "data": {
      "text/html": [
       "<div>\n",
       "<style scoped>\n",
       "    .dataframe tbody tr th:only-of-type {\n",
       "        vertical-align: middle;\n",
       "    }\n",
       "\n",
       "    .dataframe tbody tr th {\n",
       "        vertical-align: top;\n",
       "    }\n",
       "\n",
       "    .dataframe thead th {\n",
       "        text-align: right;\n",
       "    }\n",
       "</style>\n",
       "<table border=\"1\" class=\"dataframe\">\n",
       "  <thead>\n",
       "    <tr style=\"text-align: right;\">\n",
       "      <th></th>\n",
       "      <th>Original</th>\n",
       "      <th>Standardized</th>\n",
       "      <th>Normalized</th>\n",
       "    </tr>\n",
       "  </thead>\n",
       "  <tbody>\n",
       "    <tr>\n",
       "      <th>96</th>\n",
       "      <td>13.0</td>\n",
       "      <td>-1.38</td>\n",
       "      <td>0.13</td>\n",
       "    </tr>\n",
       "    <tr>\n",
       "      <th>9</th>\n",
       "      <td>15.0</td>\n",
       "      <td>-1.10</td>\n",
       "      <td>0.20</td>\n",
       "    </tr>\n",
       "    <tr>\n",
       "      <th>...</th>\n",
       "      <td>...</td>\n",
       "      <td>...</td>\n",
       "      <td>...</td>\n",
       "    </tr>\n",
       "    <tr>\n",
       "      <th>197</th>\n",
       "      <td>29.0</td>\n",
       "      <td>0.82</td>\n",
       "      <td>0.66</td>\n",
       "    </tr>\n",
       "    <tr>\n",
       "      <th>293</th>\n",
       "      <td>31.9</td>\n",
       "      <td>1.22</td>\n",
       "      <td>0.76</td>\n",
       "    </tr>\n",
       "  </tbody>\n",
       "</table>\n",
       "<p>388 rows × 3 columns</p>\n",
       "</div>"
      ],
      "text/plain": [
       "     Original  Standardized  Normalized\n",
       "96       13.0         -1.38        0.13\n",
       "9        15.0         -1.10        0.20\n",
       "..        ...           ...         ...\n",
       "197      29.0          0.82        0.66\n",
       "293      31.9          1.22        0.76\n",
       "\n",
       "[388 rows x 3 columns]"
      ]
     },
     "metadata": {},
     "output_type": "display_data"
    }
   ],
   "source": [
    "print(\"min is {:.2f}, max is {:.2f}, mean is {:.2f}, std is {:.2f}\".format(df.mpg.min(), df.mpg.max(), df.mpg.mean(), df.mpg.std()))\n",
    "mpg_orig = df.mpg\n",
    "mpg_stdd = (df.mpg - df.mpg.mean())/df.mpg.std()\n",
    "mpg_norm = (df.mpg - df.mpg.min())/ (df.mpg.max() - df.mpg.min())\n",
    "compare_mpg = pd.DataFrame({'Original': mpg_orig, 'Standardized': mpg_stdd, 'Normalized': mpg_norm})\n",
    "pd.set_option('display.precision',2)\n",
    "display(compare_mpg)"
   ]
  },
  {
   "cell_type": "markdown",
   "metadata": {
    "id": "7Gk6TKAqLw23"
   },
   "source": [
    "### Concatenating Rows and Columns\n",
    "Python can concatenate rows and columns together to form new data frames.  The code below creates a new data frame from the **mpg** and **horsepower** columns from the auto-mpg dataset.  The program does this by concatenating two columns together."
   ]
  },
  {
   "cell_type": "code",
   "execution_count": 10,
   "metadata": {
    "colab": {
     "background_save": true
    },
    "id": "skX7z92iLw23"
   },
   "outputs": [
    {
     "data": {
      "text/html": [
       "<div>\n",
       "<style scoped>\n",
       "    .dataframe tbody tr th:only-of-type {\n",
       "        vertical-align: middle;\n",
       "    }\n",
       "\n",
       "    .dataframe tbody tr th {\n",
       "        vertical-align: top;\n",
       "    }\n",
       "\n",
       "    .dataframe thead th {\n",
       "        text-align: right;\n",
       "    }\n",
       "</style>\n",
       "<table border=\"1\" class=\"dataframe\">\n",
       "  <thead>\n",
       "    <tr style=\"text-align: right;\">\n",
       "      <th></th>\n",
       "      <th>mpg</th>\n",
       "      <th>horsepower</th>\n",
       "    </tr>\n",
       "  </thead>\n",
       "  <tbody>\n",
       "    <tr>\n",
       "      <th>96</th>\n",
       "      <td>13.0</td>\n",
       "      <td>175.0</td>\n",
       "    </tr>\n",
       "    <tr>\n",
       "      <th>9</th>\n",
       "      <td>15.0</td>\n",
       "      <td>190.0</td>\n",
       "    </tr>\n",
       "    <tr>\n",
       "      <th>...</th>\n",
       "      <td>...</td>\n",
       "      <td>...</td>\n",
       "    </tr>\n",
       "    <tr>\n",
       "      <th>197</th>\n",
       "      <td>29.0</td>\n",
       "      <td>70.0</td>\n",
       "    </tr>\n",
       "    <tr>\n",
       "      <th>293</th>\n",
       "      <td>31.9</td>\n",
       "      <td>71.0</td>\n",
       "    </tr>\n",
       "  </tbody>\n",
       "</table>\n",
       "<p>388 rows × 2 columns</p>\n",
       "</div>"
      ],
      "text/plain": [
       "      mpg  horsepower\n",
       "96   13.0       175.0\n",
       "9    15.0       190.0\n",
       "..    ...         ...\n",
       "197  29.0        70.0\n",
       "293  31.9        71.0\n",
       "\n",
       "[388 rows x 2 columns]"
      ]
     },
     "metadata": {},
     "output_type": "display_data"
    }
   ],
   "source": [
    "# Create a new dataframe from name and horsepower\n",
    "col_horsepower = df['horsepower']\n",
    "col_mpg = df['mpg']\n",
    "result = pd.concat([col_mpg, col_horsepower], axis=1)\n",
    "\n",
    "display(result)"
   ]
  },
  {
   "cell_type": "markdown",
   "metadata": {
    "id": "TUNfST4_Lw29"
   },
   "source": [
    "The **concat** function can also concatenate rows together.  This code concatenates the first three rows and the last three rows of the auto-mpg dataset."
   ]
  },
  {
   "cell_type": "code",
   "execution_count": 11,
   "metadata": {
    "colab": {
     "background_save": true
    },
    "id": "WSem0IkdLw2-"
   },
   "outputs": [
    {
     "data": {
      "text/html": [
       "<div>\n",
       "<style scoped>\n",
       "    .dataframe tbody tr th:only-of-type {\n",
       "        vertical-align: middle;\n",
       "    }\n",
       "\n",
       "    .dataframe tbody tr th {\n",
       "        vertical-align: top;\n",
       "    }\n",
       "\n",
       "    .dataframe thead th {\n",
       "        text-align: right;\n",
       "    }\n",
       "</style>\n",
       "<table border=\"1\" class=\"dataframe\">\n",
       "  <thead>\n",
       "    <tr style=\"text-align: right;\">\n",
       "      <th></th>\n",
       "      <th>mpg</th>\n",
       "      <th>cylinders</th>\n",
       "      <th>displacement</th>\n",
       "      <th>horsepower</th>\n",
       "      <th>weight</th>\n",
       "      <th>acceleration</th>\n",
       "      <th>year</th>\n",
       "      <th>origin</th>\n",
       "      <th>name</th>\n",
       "    </tr>\n",
       "  </thead>\n",
       "  <tbody>\n",
       "    <tr>\n",
       "      <th>96</th>\n",
       "      <td>13.0</td>\n",
       "      <td>8</td>\n",
       "      <td>360.0</td>\n",
       "      <td>175.0</td>\n",
       "      <td>3821</td>\n",
       "      <td>11.0</td>\n",
       "      <td>73</td>\n",
       "      <td>1</td>\n",
       "      <td>amc ambassador brougham</td>\n",
       "    </tr>\n",
       "    <tr>\n",
       "      <th>9</th>\n",
       "      <td>15.0</td>\n",
       "      <td>8</td>\n",
       "      <td>390.0</td>\n",
       "      <td>190.0</td>\n",
       "      <td>3850</td>\n",
       "      <td>8.5</td>\n",
       "      <td>70</td>\n",
       "      <td>1</td>\n",
       "      <td>amc ambassador dpl</td>\n",
       "    </tr>\n",
       "    <tr>\n",
       "      <th>66</th>\n",
       "      <td>17.0</td>\n",
       "      <td>8</td>\n",
       "      <td>304.0</td>\n",
       "      <td>150.0</td>\n",
       "      <td>3672</td>\n",
       "      <td>11.5</td>\n",
       "      <td>72</td>\n",
       "      <td>1</td>\n",
       "      <td>amc ambassador sst</td>\n",
       "    </tr>\n",
       "    <tr>\n",
       "      <th>360</th>\n",
       "      <td>30.7</td>\n",
       "      <td>6</td>\n",
       "      <td>145.0</td>\n",
       "      <td>76.0</td>\n",
       "      <td>3160</td>\n",
       "      <td>19.6</td>\n",
       "      <td>81</td>\n",
       "      <td>2</td>\n",
       "      <td>volvo diesel</td>\n",
       "    </tr>\n",
       "    <tr>\n",
       "      <th>197</th>\n",
       "      <td>29.0</td>\n",
       "      <td>4</td>\n",
       "      <td>90.0</td>\n",
       "      <td>70.0</td>\n",
       "      <td>1937</td>\n",
       "      <td>14.2</td>\n",
       "      <td>76</td>\n",
       "      <td>2</td>\n",
       "      <td>vw rabbit</td>\n",
       "    </tr>\n",
       "    <tr>\n",
       "      <th>293</th>\n",
       "      <td>31.9</td>\n",
       "      <td>4</td>\n",
       "      <td>89.0</td>\n",
       "      <td>71.0</td>\n",
       "      <td>1925</td>\n",
       "      <td>14.0</td>\n",
       "      <td>79</td>\n",
       "      <td>2</td>\n",
       "      <td>vw rabbit custom</td>\n",
       "    </tr>\n",
       "  </tbody>\n",
       "</table>\n",
       "</div>"
      ],
      "text/plain": [
       "      mpg  cylinders  displacement  horsepower  weight  acceleration  year  origin                     name\n",
       "96   13.0          8         360.0       175.0    3821          11.0    73       1  amc ambassador brougham\n",
       "9    15.0          8         390.0       190.0    3850           8.5    70       1       amc ambassador dpl\n",
       "66   17.0          8         304.0       150.0    3672          11.5    72       1       amc ambassador sst\n",
       "360  30.7          6         145.0        76.0    3160          19.6    81       2             volvo diesel\n",
       "197  29.0          4          90.0        70.0    1937          14.2    76       2                vw rabbit\n",
       "293  31.9          4          89.0        71.0    1925          14.0    79       2         vw rabbit custom"
      ]
     },
     "metadata": {},
     "output_type": "display_data"
    }
   ],
   "source": [
    "# Create a new dataframe from first 3 rows and last 3 rows\n",
    "result = pd.concat([df[0:3],df[-3:]], axis=0)\n",
    "\n",
    "pd.set_option('display.max_rows', 0)\n",
    "display(result)"
   ]
  },
  {
   "cell_type": "markdown",
   "metadata": {
    "id": "7hfnjIi5Lw3Q"
   },
   "source": [
    "### Converting a Dataframe to a Matrix\n",
    "You can use the **values** property of a data frame to convert the data to a matrix."
   ]
  },
  {
   "cell_type": "code",
   "execution_count": 12,
   "metadata": {
    "colab": {
     "background_save": true
    },
    "id": "FqHGWJBIFBTa"
   },
   "outputs": [
    {
     "data": {
      "text/plain": [
       "array([[13.0, 8, 360.0, ..., 73, 1, 'amc ambassador brougham'],\n",
       "       [15.0, 8, 390.0, ..., 70, 1, 'amc ambassador dpl'],\n",
       "       [17.0, 8, 304.0, ..., 72, 1, 'amc ambassador sst'],\n",
       "       ...,\n",
       "       [30.7, 6, 145.0, ..., 81, 2, 'volvo diesel'],\n",
       "       [29.0, 4, 90.0, ..., 76, 2, 'vw rabbit'],\n",
       "       [31.9, 4, 89.0, ..., 79, 2, 'vw rabbit custom']], dtype=object)"
      ]
     },
     "execution_count": 12,
     "metadata": {},
     "output_type": "execute_result"
    }
   ],
   "source": [
    "df.values"
   ]
  },
  {
   "cell_type": "markdown",
   "metadata": {
    "id": "l94GMZqOLw3W"
   },
   "source": [
    "You might wish only to convert some of the columns, to leave out the `name` column, use the following code."
   ]
  },
  {
   "cell_type": "code",
   "execution_count": 13,
   "metadata": {
    "colab": {
     "background_save": true
    },
    "id": "qkAXZ4KJLw3X"
   },
   "outputs": [
    {
     "data": {
      "text/plain": [
       "array([[ 13. ,   8. , 360. , ...,  11. ,  73. ,   1. ],\n",
       "       [ 15. ,   8. , 390. , ...,   8.5,  70. ,   1. ],\n",
       "       [ 17. ,   8. , 304. , ...,  11.5,  72. ,   1. ],\n",
       "       ...,\n",
       "       [ 30.7,   6. , 145. , ...,  19.6,  81. ,   2. ],\n",
       "       [ 29. ,   4. ,  90. , ...,  14.2,  76. ,   2. ],\n",
       "       [ 31.9,   4. ,  89. , ...,  14. ,  79. ,   2. ]])"
      ]
     },
     "execution_count": 13,
     "metadata": {},
     "output_type": "execute_result"
    }
   ],
   "source": [
    "df[['mpg', 'cylinders', 'displacement', 'horsepower', 'weight',\n",
    "       'acceleration', 'year', 'origin']].values"
   ]
  },
  {
   "cell_type": "markdown",
   "metadata": {
    "id": "v6YF1ZAVVxNA"
   },
   "source": [
    "### Grouping a Data Set\n",
    "\n",
    "Grouping is a typical operation on data sets.  Structured Query Language (SQL) calls this operation a \"GROUP BY.\"  Programmers use grouping to summarize data.  "
   ]
  },
  {
   "cell_type": "markdown",
   "metadata": {
    "id": "Dbn_PeeNVxNH"
   },
   "source": [
    "For example, the following code will group cylinders by the average (mean).  This code will provide the grouping.  In addition to **mean**, you can use other aggregating functions, such as **sum** or **count**."
   ]
  },
  {
   "cell_type": "code",
   "execution_count": 14,
   "metadata": {
    "colab": {
     "background_save": true
    },
    "id": "5Cm6_ulTVxNJ"
   },
   "outputs": [
    {
     "data": {
      "text/plain": [
       "cylinders\n",
       "3    20.55\n",
       "4    28.59\n",
       "5    27.37\n",
       "6    19.99\n",
       "8    14.96\n",
       "Name: mpg, dtype: float64"
      ]
     },
     "execution_count": 14,
     "metadata": {},
     "output_type": "execute_result"
    }
   ],
   "source": [
    "cyl_g = df.groupby('cylinders')['mpg'].mean()\n",
    "cyl_g"
   ]
  },
  {
   "cell_type": "markdown",
   "metadata": {
    "id": "grZ2b65attfL"
   },
   "source": [
    "\n",
    "In the below example we group the data by cylinders and then get the result for a specific cylinder."
   ]
  },
  {
   "cell_type": "code",
   "execution_count": 15,
   "metadata": {
    "colab": {
     "background_save": true
    },
    "id": "Ir_1LBtHgPOw"
   },
   "outputs": [
    {
     "name": "stdout",
     "output_type": "stream",
     "text": [
      "The grouped data are as follows:\n",
      "\n",
      "       mpg  cylinders  displacement  horsepower  weight  acceleration  year  origin                      name\n",
      "315  24.3          4         151.0        90.0    3003          20.1    80       1               amc concord\n",
      "374  23.0          4         151.0        93.5    3035          20.5    82       1            amc concord dl\n",
      "296  27.4          4         121.0        80.0    2670          15.0    79       1             amc spirit dl\n",
      "21   24.0          4         107.0        90.0    2430          14.5    70       2               audi 100 ls\n",
      "177  23.0          4         115.0        95.0    2694          15.0    75       2                audi 100ls\n",
      "119  20.0          4         114.0        91.0    2582          14.0    73       2                audi 100ls\n",
      "317  34.3          4          97.0        78.0    2188          15.8    80       2                 audi 4000\n",
      "141  29.0          4          98.0        83.0    2219          16.5    74       2                  audi fox\n",
      "23   26.0          4         121.0       113.0    2234          12.5    70       2                  bmw 2002\n",
      "242  21.5          4         121.0       110.0    2600          12.8    77       2                  bmw 320i\n",
      "217  30.0          4         111.0        80.0    2155          14.8    77       1   buick opel isuzu deluxe\n",
      "339  26.6          4         151.0        84.0    2635          16.4    81       1             buick skylark\n",
      "..    ...        ...           ...         ...     ...           ...   ...     ...                       ...\n",
      "203  29.5          4          97.0        71.0    1825          12.2    76       2         volkswagen rabbit\n",
      "233  29.0          4          97.0        78.0    1940          14.5    77       2  volkswagen rabbit custom\n",
      "375  36.0          4         105.0        74.0    1980          15.3    82       2       volkswagen rabbit l\n",
      "278  31.5          4          89.0        71.0    1990          14.9    78       2       volkswagen scirocco\n",
      "102  26.0          4          97.0        46.0    1950          21.0    73       2   volkswagen super beetle\n",
      "59   23.0          4          97.0        54.0    2254          23.5    72       2         volkswagen type 3\n",
      "120  19.0          4         121.0       112.0    2868          15.5    73       2               volvo 144ea\n",
      "76   18.0          4         121.0       112.0    2933          14.5    72       2           volvo 145e (sw)\n",
      "179  22.0          4         121.0        98.0    2945          14.5    75       2               volvo 244dl\n",
      "207  20.0          4         130.0       102.0    3150          15.7    76       2                 volvo 245\n",
      "197  29.0          4          90.0        70.0    1937          14.2    76       2                 vw rabbit\n",
      "293  31.9          4          89.0        71.0    1925          14.0    79       2          vw rabbit custom\n",
      "\n",
      "[194 rows x 9 columns]\n"
     ]
    }
   ],
   "source": [
    "print(\"The grouped data are as follows:\\n\\n\", df.groupby('cylinders').get_group(4))"
   ]
  },
  {
   "cell_type": "markdown",
   "metadata": {
    "id": "pqLuPmE3Lw3b"
   },
   "source": [
    "### Saving a Dataframe to CSV\n",
    "\n",
    "You can use the following code to save a copy of the data frame as a .csv file ."
   ]
  },
  {
   "cell_type": "code",
   "execution_count": 16,
   "metadata": {
    "colab": {
     "background_save": true
    },
    "id": "xWHkIssCLw3c"
   },
   "outputs": [
    {
     "name": "stdout",
     "output_type": "stream",
     "text": [
      "Done\n"
     ]
    }
   ],
   "source": [
    "import os\n",
    "path = \".\"\n",
    "filename_write = os.path.join(path, \"auto-mpg-processed.csv\")\n",
    "df.to_csv(filename_write, index=False) \n",
    "print(\"Done\")"
   ]
  },
  {
   "cell_type": "markdown",
   "metadata": {
    "id": "g75ZbmB3KNQJ"
   },
   "source": [
    "You can check the saved .csv file using the following code. "
   ]
  },
  {
   "cell_type": "code",
   "execution_count": 17,
   "metadata": {
    "colab": {
     "background_save": true
    },
    "id": "U0M1regBJ8hR"
   },
   "outputs": [
    {
     "data": {
      "text/html": [
       "<div>\n",
       "<style scoped>\n",
       "    .dataframe tbody tr th:only-of-type {\n",
       "        vertical-align: middle;\n",
       "    }\n",
       "\n",
       "    .dataframe tbody tr th {\n",
       "        vertical-align: top;\n",
       "    }\n",
       "\n",
       "    .dataframe thead th {\n",
       "        text-align: right;\n",
       "    }\n",
       "</style>\n",
       "<table border=\"1\" class=\"dataframe\">\n",
       "  <thead>\n",
       "    <tr style=\"text-align: right;\">\n",
       "      <th></th>\n",
       "      <th>mpg</th>\n",
       "      <th>cylinders</th>\n",
       "      <th>displacement</th>\n",
       "      <th>horsepower</th>\n",
       "      <th>weight</th>\n",
       "      <th>acceleration</th>\n",
       "      <th>year</th>\n",
       "      <th>origin</th>\n",
       "      <th>name</th>\n",
       "    </tr>\n",
       "  </thead>\n",
       "  <tbody>\n",
       "    <tr>\n",
       "      <th>0</th>\n",
       "      <td>13.0</td>\n",
       "      <td>8</td>\n",
       "      <td>360.0</td>\n",
       "      <td>175.0</td>\n",
       "      <td>3821</td>\n",
       "      <td>11.0</td>\n",
       "      <td>73</td>\n",
       "      <td>1</td>\n",
       "      <td>amc ambassador brougham</td>\n",
       "    </tr>\n",
       "    <tr>\n",
       "      <th>1</th>\n",
       "      <td>15.0</td>\n",
       "      <td>8</td>\n",
       "      <td>390.0</td>\n",
       "      <td>190.0</td>\n",
       "      <td>3850</td>\n",
       "      <td>8.5</td>\n",
       "      <td>70</td>\n",
       "      <td>1</td>\n",
       "      <td>amc ambassador dpl</td>\n",
       "    </tr>\n",
       "    <tr>\n",
       "      <th>2</th>\n",
       "      <td>17.0</td>\n",
       "      <td>8</td>\n",
       "      <td>304.0</td>\n",
       "      <td>150.0</td>\n",
       "      <td>3672</td>\n",
       "      <td>11.5</td>\n",
       "      <td>72</td>\n",
       "      <td>1</td>\n",
       "      <td>amc ambassador sst</td>\n",
       "    </tr>\n",
       "    <tr>\n",
       "      <th>3</th>\n",
       "      <td>24.3</td>\n",
       "      <td>4</td>\n",
       "      <td>151.0</td>\n",
       "      <td>90.0</td>\n",
       "      <td>3003</td>\n",
       "      <td>20.1</td>\n",
       "      <td>80</td>\n",
       "      <td>1</td>\n",
       "      <td>amc concord</td>\n",
       "    </tr>\n",
       "    <tr>\n",
       "      <th>4</th>\n",
       "      <td>19.4</td>\n",
       "      <td>6</td>\n",
       "      <td>232.0</td>\n",
       "      <td>90.0</td>\n",
       "      <td>3210</td>\n",
       "      <td>17.2</td>\n",
       "      <td>78</td>\n",
       "      <td>1</td>\n",
       "      <td>amc concord</td>\n",
       "    </tr>\n",
       "    <tr>\n",
       "      <th>5</th>\n",
       "      <td>18.1</td>\n",
       "      <td>6</td>\n",
       "      <td>258.0</td>\n",
       "      <td>120.0</td>\n",
       "      <td>3410</td>\n",
       "      <td>15.1</td>\n",
       "      <td>78</td>\n",
       "      <td>1</td>\n",
       "      <td>amc concord d/l</td>\n",
       "    </tr>\n",
       "    <tr>\n",
       "      <th>6</th>\n",
       "      <td>23.0</td>\n",
       "      <td>4</td>\n",
       "      <td>151.0</td>\n",
       "      <td>93.5</td>\n",
       "      <td>3035</td>\n",
       "      <td>20.5</td>\n",
       "      <td>82</td>\n",
       "      <td>1</td>\n",
       "      <td>amc concord dl</td>\n",
       "    </tr>\n",
       "    <tr>\n",
       "      <th>7</th>\n",
       "      <td>20.2</td>\n",
       "      <td>6</td>\n",
       "      <td>232.0</td>\n",
       "      <td>90.0</td>\n",
       "      <td>3265</td>\n",
       "      <td>18.2</td>\n",
       "      <td>79</td>\n",
       "      <td>1</td>\n",
       "      <td>amc concord dl 6</td>\n",
       "    </tr>\n",
       "    <tr>\n",
       "      <th>8</th>\n",
       "      <td>18.0</td>\n",
       "      <td>6</td>\n",
       "      <td>232.0</td>\n",
       "      <td>100.0</td>\n",
       "      <td>2789</td>\n",
       "      <td>15.0</td>\n",
       "      <td>73</td>\n",
       "      <td>1</td>\n",
       "      <td>amc gremlin</td>\n",
       "    </tr>\n",
       "    <tr>\n",
       "      <th>9</th>\n",
       "      <td>19.0</td>\n",
       "      <td>6</td>\n",
       "      <td>232.0</td>\n",
       "      <td>100.0</td>\n",
       "      <td>2634</td>\n",
       "      <td>13.0</td>\n",
       "      <td>71</td>\n",
       "      <td>1</td>\n",
       "      <td>amc gremlin</td>\n",
       "    </tr>\n",
       "    <tr>\n",
       "      <th>10</th>\n",
       "      <td>20.0</td>\n",
       "      <td>6</td>\n",
       "      <td>232.0</td>\n",
       "      <td>100.0</td>\n",
       "      <td>2914</td>\n",
       "      <td>16.0</td>\n",
       "      <td>75</td>\n",
       "      <td>1</td>\n",
       "      <td>amc gremlin</td>\n",
       "    </tr>\n",
       "    <tr>\n",
       "      <th>11</th>\n",
       "      <td>21.0</td>\n",
       "      <td>6</td>\n",
       "      <td>199.0</td>\n",
       "      <td>90.0</td>\n",
       "      <td>2648</td>\n",
       "      <td>15.0</td>\n",
       "      <td>70</td>\n",
       "      <td>1</td>\n",
       "      <td>amc gremlin</td>\n",
       "    </tr>\n",
       "    <tr>\n",
       "      <th>...</th>\n",
       "      <td>...</td>\n",
       "      <td>...</td>\n",
       "      <td>...</td>\n",
       "      <td>...</td>\n",
       "      <td>...</td>\n",
       "      <td>...</td>\n",
       "      <td>...</td>\n",
       "      <td>...</td>\n",
       "      <td>...</td>\n",
       "    </tr>\n",
       "    <tr>\n",
       "      <th>376</th>\n",
       "      <td>36.0</td>\n",
       "      <td>4</td>\n",
       "      <td>105.0</td>\n",
       "      <td>74.0</td>\n",
       "      <td>1980</td>\n",
       "      <td>15.3</td>\n",
       "      <td>82</td>\n",
       "      <td>2</td>\n",
       "      <td>volkswagen rabbit l</td>\n",
       "    </tr>\n",
       "    <tr>\n",
       "      <th>377</th>\n",
       "      <td>31.5</td>\n",
       "      <td>4</td>\n",
       "      <td>89.0</td>\n",
       "      <td>71.0</td>\n",
       "      <td>1990</td>\n",
       "      <td>14.9</td>\n",
       "      <td>78</td>\n",
       "      <td>2</td>\n",
       "      <td>volkswagen scirocco</td>\n",
       "    </tr>\n",
       "    <tr>\n",
       "      <th>378</th>\n",
       "      <td>26.0</td>\n",
       "      <td>4</td>\n",
       "      <td>97.0</td>\n",
       "      <td>46.0</td>\n",
       "      <td>1950</td>\n",
       "      <td>21.0</td>\n",
       "      <td>73</td>\n",
       "      <td>2</td>\n",
       "      <td>volkswagen super beetle</td>\n",
       "    </tr>\n",
       "    <tr>\n",
       "      <th>379</th>\n",
       "      <td>23.0</td>\n",
       "      <td>4</td>\n",
       "      <td>97.0</td>\n",
       "      <td>54.0</td>\n",
       "      <td>2254</td>\n",
       "      <td>23.5</td>\n",
       "      <td>72</td>\n",
       "      <td>2</td>\n",
       "      <td>volkswagen type 3</td>\n",
       "    </tr>\n",
       "    <tr>\n",
       "      <th>380</th>\n",
       "      <td>19.0</td>\n",
       "      <td>4</td>\n",
       "      <td>121.0</td>\n",
       "      <td>112.0</td>\n",
       "      <td>2868</td>\n",
       "      <td>15.5</td>\n",
       "      <td>73</td>\n",
       "      <td>2</td>\n",
       "      <td>volvo 144ea</td>\n",
       "    </tr>\n",
       "    <tr>\n",
       "      <th>381</th>\n",
       "      <td>18.0</td>\n",
       "      <td>4</td>\n",
       "      <td>121.0</td>\n",
       "      <td>112.0</td>\n",
       "      <td>2933</td>\n",
       "      <td>14.5</td>\n",
       "      <td>72</td>\n",
       "      <td>2</td>\n",
       "      <td>volvo 145e (sw)</td>\n",
       "    </tr>\n",
       "    <tr>\n",
       "      <th>382</th>\n",
       "      <td>22.0</td>\n",
       "      <td>4</td>\n",
       "      <td>121.0</td>\n",
       "      <td>98.0</td>\n",
       "      <td>2945</td>\n",
       "      <td>14.5</td>\n",
       "      <td>75</td>\n",
       "      <td>2</td>\n",
       "      <td>volvo 244dl</td>\n",
       "    </tr>\n",
       "    <tr>\n",
       "      <th>383</th>\n",
       "      <td>20.0</td>\n",
       "      <td>4</td>\n",
       "      <td>130.0</td>\n",
       "      <td>102.0</td>\n",
       "      <td>3150</td>\n",
       "      <td>15.7</td>\n",
       "      <td>76</td>\n",
       "      <td>2</td>\n",
       "      <td>volvo 245</td>\n",
       "    </tr>\n",
       "    <tr>\n",
       "      <th>384</th>\n",
       "      <td>17.0</td>\n",
       "      <td>6</td>\n",
       "      <td>163.0</td>\n",
       "      <td>125.0</td>\n",
       "      <td>3140</td>\n",
       "      <td>13.6</td>\n",
       "      <td>78</td>\n",
       "      <td>2</td>\n",
       "      <td>volvo 264gl</td>\n",
       "    </tr>\n",
       "    <tr>\n",
       "      <th>385</th>\n",
       "      <td>30.7</td>\n",
       "      <td>6</td>\n",
       "      <td>145.0</td>\n",
       "      <td>76.0</td>\n",
       "      <td>3160</td>\n",
       "      <td>19.6</td>\n",
       "      <td>81</td>\n",
       "      <td>2</td>\n",
       "      <td>volvo diesel</td>\n",
       "    </tr>\n",
       "    <tr>\n",
       "      <th>386</th>\n",
       "      <td>29.0</td>\n",
       "      <td>4</td>\n",
       "      <td>90.0</td>\n",
       "      <td>70.0</td>\n",
       "      <td>1937</td>\n",
       "      <td>14.2</td>\n",
       "      <td>76</td>\n",
       "      <td>2</td>\n",
       "      <td>vw rabbit</td>\n",
       "    </tr>\n",
       "    <tr>\n",
       "      <th>387</th>\n",
       "      <td>31.9</td>\n",
       "      <td>4</td>\n",
       "      <td>89.0</td>\n",
       "      <td>71.0</td>\n",
       "      <td>1925</td>\n",
       "      <td>14.0</td>\n",
       "      <td>79</td>\n",
       "      <td>2</td>\n",
       "      <td>vw rabbit custom</td>\n",
       "    </tr>\n",
       "  </tbody>\n",
       "</table>\n",
       "<p>388 rows × 9 columns</p>\n",
       "</div>"
      ],
      "text/plain": [
       "      mpg  cylinders  displacement  horsepower  weight  acceleration  year  origin                     name\n",
       "0    13.0          8         360.0       175.0    3821          11.0    73       1  amc ambassador brougham\n",
       "1    15.0          8         390.0       190.0    3850           8.5    70       1       amc ambassador dpl\n",
       "2    17.0          8         304.0       150.0    3672          11.5    72       1       amc ambassador sst\n",
       "3    24.3          4         151.0        90.0    3003          20.1    80       1              amc concord\n",
       "4    19.4          6         232.0        90.0    3210          17.2    78       1              amc concord\n",
       "5    18.1          6         258.0       120.0    3410          15.1    78       1          amc concord d/l\n",
       "6    23.0          4         151.0        93.5    3035          20.5    82       1           amc concord dl\n",
       "7    20.2          6         232.0        90.0    3265          18.2    79       1         amc concord dl 6\n",
       "8    18.0          6         232.0       100.0    2789          15.0    73       1              amc gremlin\n",
       "9    19.0          6         232.0       100.0    2634          13.0    71       1              amc gremlin\n",
       "10   20.0          6         232.0       100.0    2914          16.0    75       1              amc gremlin\n",
       "11   21.0          6         199.0        90.0    2648          15.0    70       1              amc gremlin\n",
       "..    ...        ...           ...         ...     ...           ...   ...     ...                      ...\n",
       "376  36.0          4         105.0        74.0    1980          15.3    82       2      volkswagen rabbit l\n",
       "377  31.5          4          89.0        71.0    1990          14.9    78       2      volkswagen scirocco\n",
       "378  26.0          4          97.0        46.0    1950          21.0    73       2  volkswagen super beetle\n",
       "379  23.0          4          97.0        54.0    2254          23.5    72       2        volkswagen type 3\n",
       "380  19.0          4         121.0       112.0    2868          15.5    73       2              volvo 144ea\n",
       "381  18.0          4         121.0       112.0    2933          14.5    72       2          volvo 145e (sw)\n",
       "382  22.0          4         121.0        98.0    2945          14.5    75       2              volvo 244dl\n",
       "383  20.0          4         130.0       102.0    3150          15.7    76       2                volvo 245\n",
       "384  17.0          6         163.0       125.0    3140          13.6    78       2              volvo 264gl\n",
       "385  30.7          6         145.0        76.0    3160          19.6    81       2             volvo diesel\n",
       "386  29.0          4          90.0        70.0    1937          14.2    76       2                vw rabbit\n",
       "387  31.9          4          89.0        71.0    1925          14.0    79       2         vw rabbit custom\n",
       "\n",
       "[388 rows x 9 columns]"
      ]
     },
     "metadata": {},
     "output_type": "display_data"
    }
   ],
   "source": [
    "processed = pd.read_csv(\"auto-mpg-processed.csv\")\n",
    "display(processed)"
   ]
  },
  {
   "cell_type": "markdown",
   "metadata": {
    "id": "lir5xtBHbn7j"
   },
   "source": [
    "## EDA"
   ]
  },
  {
   "cell_type": "markdown",
   "metadata": {
    "id": "7QwCWbfcXJEv"
   },
   "source": [
    "### **Descriptive Statistics for Numeric Columns**"
   ]
  },
  {
   "cell_type": "code",
   "execution_count": 18,
   "metadata": {
    "colab": {
     "background_save": true
    },
    "id": "aYr0-k0zUs5d"
   },
   "outputs": [
    {
     "data": {
      "text/html": [
       "<div>\n",
       "<style scoped>\n",
       "    .dataframe tbody tr th:only-of-type {\n",
       "        vertical-align: middle;\n",
       "    }\n",
       "\n",
       "    .dataframe tbody tr th {\n",
       "        vertical-align: top;\n",
       "    }\n",
       "\n",
       "    .dataframe thead th {\n",
       "        text-align: right;\n",
       "    }\n",
       "</style>\n",
       "<table border=\"1\" class=\"dataframe\">\n",
       "  <thead>\n",
       "    <tr style=\"text-align: right;\">\n",
       "      <th></th>\n",
       "      <th>mpg</th>\n",
       "      <th>displacement</th>\n",
       "      <th>horsepower</th>\n",
       "      <th>weight</th>\n",
       "      <th>acceleration</th>\n",
       "    </tr>\n",
       "  </thead>\n",
       "  <tbody>\n",
       "    <tr>\n",
       "      <th>count</th>\n",
       "      <td>388.00</td>\n",
       "      <td>388.00</td>\n",
       "      <td>388.00</td>\n",
       "      <td>388.00</td>\n",
       "      <td>388.00</td>\n",
       "    </tr>\n",
       "    <tr>\n",
       "      <th>mean</th>\n",
       "      <td>23.02</td>\n",
       "      <td>196.10</td>\n",
       "      <td>105.36</td>\n",
       "      <td>2993.75</td>\n",
       "      <td>15.47</td>\n",
       "    </tr>\n",
       "    <tr>\n",
       "      <th>std</th>\n",
       "      <td>7.26</td>\n",
       "      <td>104.25</td>\n",
       "      <td>38.07</td>\n",
       "      <td>844.67</td>\n",
       "      <td>2.67</td>\n",
       "    </tr>\n",
       "    <tr>\n",
       "      <th>min</th>\n",
       "      <td>9.00</td>\n",
       "      <td>68.00</td>\n",
       "      <td>46.00</td>\n",
       "      <td>1613.00</td>\n",
       "      <td>8.00</td>\n",
       "    </tr>\n",
       "    <tr>\n",
       "      <th>25%</th>\n",
       "      <td>17.00</td>\n",
       "      <td>106.50</td>\n",
       "      <td>78.00</td>\n",
       "      <td>2252.00</td>\n",
       "      <td>13.70</td>\n",
       "    </tr>\n",
       "    <tr>\n",
       "      <th>50%</th>\n",
       "      <td>22.15</td>\n",
       "      <td>151.00</td>\n",
       "      <td>95.00</td>\n",
       "      <td>2845.00</td>\n",
       "      <td>15.50</td>\n",
       "    </tr>\n",
       "    <tr>\n",
       "      <th>75%</th>\n",
       "      <td>28.18</td>\n",
       "      <td>302.00</td>\n",
       "      <td>129.00</td>\n",
       "      <td>3622.50</td>\n",
       "      <td>17.00</td>\n",
       "    </tr>\n",
       "    <tr>\n",
       "      <th>max</th>\n",
       "      <td>39.10</td>\n",
       "      <td>455.00</td>\n",
       "      <td>230.00</td>\n",
       "      <td>5140.00</td>\n",
       "      <td>24.80</td>\n",
       "    </tr>\n",
       "  </tbody>\n",
       "</table>\n",
       "</div>"
      ],
      "text/plain": [
       "          mpg  displacement  horsepower   weight  acceleration\n",
       "count  388.00        388.00      388.00   388.00        388.00\n",
       "mean    23.02        196.10      105.36  2993.75         15.47\n",
       "std      7.26        104.25       38.07   844.67          2.67\n",
       "min      9.00         68.00       46.00  1613.00          8.00\n",
       "25%     17.00        106.50       78.00  2252.00         13.70\n",
       "50%     22.15        151.00       95.00  2845.00         15.50\n",
       "75%     28.18        302.00      129.00  3622.50         17.00\n",
       "max     39.10        455.00      230.00  5140.00         24.80"
      ]
     },
     "execution_count": 18,
     "metadata": {},
     "output_type": "execute_result"
    }
   ],
   "source": [
    "cols_num = ['mpg', 'displacement', 'horsepower', 'weight', 'acceleration']\n",
    "round(df[cols_num].describe(), 2)"
   ]
  },
  {
   "cell_type": "code",
   "execution_count": 19,
   "metadata": {
    "colab": {
     "background_save": true
    },
    "id": "PU3OKLc4MTG3"
   },
   "outputs": [
    {
     "data": {
      "text/plain": [
       "array([[ 1.  , -0.82, -0.78, -0.85,  0.38],\n",
       "       [-0.82,  1.  ,  0.89,  0.93, -0.54],\n",
       "       [-0.78,  0.89,  1.  ,  0.86, -0.68],\n",
       "       [-0.85,  0.93,  0.86,  1.  , -0.41],\n",
       "       [ 0.38, -0.54, -0.68, -0.41,  1.  ]])"
      ]
     },
     "execution_count": 19,
     "metadata": {},
     "output_type": "execute_result"
    }
   ],
   "source": [
    "# Return Pearson product-moment correlation coefficients.\n",
    "cm = np.corrcoef(df[cols_num].values.T)\n",
    "cm.round(2)"
   ]
  },
  {
   "cell_type": "code",
   "execution_count": 20,
   "metadata": {
    "colab": {
     "background_save": true
    },
    "id": "ZUe4PXbEQ3fk"
   },
   "outputs": [
    {
     "data": {
      "text/html": [
       "<div>\n",
       "<style scoped>\n",
       "    .dataframe tbody tr th:only-of-type {\n",
       "        vertical-align: middle;\n",
       "    }\n",
       "\n",
       "    .dataframe tbody tr th {\n",
       "        vertical-align: top;\n",
       "    }\n",
       "\n",
       "    .dataframe thead th {\n",
       "        text-align: right;\n",
       "    }\n",
       "</style>\n",
       "<table border=\"1\" class=\"dataframe\">\n",
       "  <thead>\n",
       "    <tr style=\"text-align: right;\">\n",
       "      <th></th>\n",
       "      <th>mpg</th>\n",
       "      <th>displacement</th>\n",
       "      <th>horsepower</th>\n",
       "      <th>weight</th>\n",
       "      <th>acceleration</th>\n",
       "    </tr>\n",
       "  </thead>\n",
       "  <tbody>\n",
       "    <tr>\n",
       "      <th>mpg</th>\n",
       "      <td>1.00</td>\n",
       "      <td>-0.82</td>\n",
       "      <td>-0.78</td>\n",
       "      <td>-0.85</td>\n",
       "      <td>0.38</td>\n",
       "    </tr>\n",
       "    <tr>\n",
       "      <th>displacement</th>\n",
       "      <td>-0.82</td>\n",
       "      <td>1.00</td>\n",
       "      <td>0.89</td>\n",
       "      <td>0.93</td>\n",
       "      <td>-0.54</td>\n",
       "    </tr>\n",
       "    <tr>\n",
       "      <th>horsepower</th>\n",
       "      <td>-0.78</td>\n",
       "      <td>0.89</td>\n",
       "      <td>1.00</td>\n",
       "      <td>0.86</td>\n",
       "      <td>-0.68</td>\n",
       "    </tr>\n",
       "    <tr>\n",
       "      <th>weight</th>\n",
       "      <td>-0.85</td>\n",
       "      <td>0.93</td>\n",
       "      <td>0.86</td>\n",
       "      <td>1.00</td>\n",
       "      <td>-0.41</td>\n",
       "    </tr>\n",
       "    <tr>\n",
       "      <th>acceleration</th>\n",
       "      <td>0.38</td>\n",
       "      <td>-0.54</td>\n",
       "      <td>-0.68</td>\n",
       "      <td>-0.41</td>\n",
       "      <td>1.00</td>\n",
       "    </tr>\n",
       "  </tbody>\n",
       "</table>\n",
       "</div>"
      ],
      "text/plain": [
       "               mpg  displacement  horsepower  weight  acceleration\n",
       "mpg           1.00         -0.82       -0.78   -0.85          0.38\n",
       "displacement -0.82          1.00        0.89    0.93         -0.54\n",
       "horsepower   -0.78          0.89        1.00    0.86         -0.68\n",
       "weight       -0.85          0.93        0.86    1.00         -0.41\n",
       "acceleration  0.38         -0.54       -0.68   -0.41          1.00"
      ]
     },
     "metadata": {},
     "output_type": "display_data"
    }
   ],
   "source": [
    "# Alternatively, you can use the function `corr`\n",
    "cm = round(df[cols_num].corr(), 2)\n",
    "display(cm)"
   ]
  },
  {
   "cell_type": "markdown",
   "metadata": {
    "id": "xMSAnXVrOG5T"
   },
   "source": [
    "### **Visualizing the Numeric Columns**"
   ]
  },
  {
   "cell_type": "code",
   "execution_count": 21,
   "metadata": {
    "colab": {
     "background_save": true
    },
    "id": "I9HKzDyMOfCQ"
   },
   "outputs": [],
   "source": [
    "# Choose the style of the plot. To check available styles using plt.style.available\n",
    "plt.style.use('fivethirtyeight')\n",
    "# %matplotlib inline sets the backend of matplotlib to the 'inline' backend: \n",
    "# With this backend, the output of plotting commands is displayed inline within frontends like the Jupyter notebook, \n",
    "# directly below the code cell that produced it. The resulting plots will then also be stored in the notebook document.\n",
    "%matplotlib inline"
   ]
  },
  {
   "cell_type": "code",
   "execution_count": 22,
   "metadata": {
    "colab": {
     "background_save": true
    },
    "id": "DmHeUbsnOyYD"
   },
   "outputs": [
    {
     "data": {
      "image/png": "[encoded data removed]",
      "text/plain": [
       "<Figure size 900x900 with 30 Axes>"
      ]
     },
     "metadata": {
      "needs_background": "light"
     },
     "output_type": "display_data"
    }
   ],
   "source": [
    "# Plot pairwise relationships in a dataset.\n",
    "sns.pairplot(df[cols_num], height=2.5)\n",
    "# Automatically adjust plot parameters to give specified padding.\n",
    "plt.tight_layout()\n",
    "# Save the current figure.\n",
    "plt.savefig('pairplot.png', dpi=300)\n",
    "# Display all figures\n",
    "plt.show()"
   ]
  },
  {
   "cell_type": "code",
   "execution_count": 24,
   "metadata": {
    "colab": {
     "background_save": true
    },
    "id": "kQPsbIVl9exw"
   },
   "outputs": [
    {
     "data": {
      "image/png": "[encoded data removed]",
      "text/plain": [
       "<Figure size 432x288 with 2 Axes>"
      ]
     },
     "metadata": {},
     "output_type": "display_data"
    }
   ],
   "source": [
    "# Set the font size relative to the figure\n",
    "sns.set(font_scale=1.0)\n",
    "# Plot rectangular data as a color-encoded matrix.\n",
    "hm = sns.heatmap(cm,\n",
    "                 cbar=True,\n",
    "                 annot=True,\n",
    "                 square=True,\n",
    "                 fmt='.2f',\n",
    "                 annot_kws={'size': 10},\n",
    "                 yticklabels=cols_num,\n",
    "                 xticklabels=cols_num)\n",
    "\n",
    "plt.tight_layout()\n",
    "plt.savefig('heatmap.png', dpi=300)\n",
    "plt.show()"
   ]
  },
  {
   "cell_type": "code",
   "execution_count": 25,
   "metadata": {
    "colab": {
     "background_save": true
    },
    "id": "hSXzQtgyCsee"
   },
   "outputs": [
    {
     "data": {
      "image/png": "[encoded data removed]",
      "text/plain": [
       "<Figure size 432x288 with 1 Axes>"
      ]
     },
     "metadata": {},
     "output_type": "display_data"
    }
   ],
   "source": [
    "# Draw a box plot to show distributions with respect to categories.\n",
    "sns.boxplot(x='cylinders', y='horsepower', data=df)\n",
    "plt.savefig(\"boxplot.png\", dpi = 300)"
   ]
  },
  {
   "cell_type": "markdown",
   "metadata": {
    "id": "EL3Tcn-EeDiS"
   },
   "source": [
    "### **Descriptive Statistics for Categorical (Discrete) Columns**"
   ]
  },
  {
   "cell_type": "code",
   "execution_count": 26,
   "metadata": {
    "colab": {
     "background_save": true
    },
    "id": "uVNJUlloMS67"
   },
   "outputs": [
    {
     "data": {
      "text/html": [
       "<div>\n",
       "<style scoped>\n",
       "    .dataframe tbody tr th:only-of-type {\n",
       "        vertical-align: middle;\n",
       "    }\n",
       "\n",
       "    .dataframe tbody tr th {\n",
       "        vertical-align: top;\n",
       "    }\n",
       "\n",
       "    .dataframe thead th {\n",
       "        text-align: right;\n",
       "    }\n",
       "</style>\n",
       "<table border=\"1\" class=\"dataframe\">\n",
       "  <thead>\n",
       "    <tr style=\"text-align: right;\">\n",
       "      <th></th>\n",
       "      <th>mpg</th>\n",
       "      <th>cylinders</th>\n",
       "      <th>displacement</th>\n",
       "      <th>horsepower</th>\n",
       "      <th>weight</th>\n",
       "      <th>acceleration</th>\n",
       "      <th>year</th>\n",
       "      <th>origin</th>\n",
       "    </tr>\n",
       "  </thead>\n",
       "  <tbody>\n",
       "    <tr>\n",
       "      <th>count</th>\n",
       "      <td>388.00</td>\n",
       "      <td>388.00</td>\n",
       "      <td>388.00</td>\n",
       "      <td>388.00</td>\n",
       "      <td>388.00</td>\n",
       "      <td>388.00</td>\n",
       "      <td>388.00</td>\n",
       "      <td>388.00</td>\n",
       "    </tr>\n",
       "    <tr>\n",
       "      <th>mean</th>\n",
       "      <td>23.02</td>\n",
       "      <td>5.49</td>\n",
       "      <td>196.10</td>\n",
       "      <td>105.36</td>\n",
       "      <td>2993.75</td>\n",
       "      <td>15.47</td>\n",
       "      <td>75.91</td>\n",
       "      <td>1.55</td>\n",
       "    </tr>\n",
       "    <tr>\n",
       "      <th>std</th>\n",
       "      <td>7.26</td>\n",
       "      <td>1.71</td>\n",
       "      <td>104.25</td>\n",
       "      <td>38.07</td>\n",
       "      <td>844.67</td>\n",
       "      <td>2.67</td>\n",
       "      <td>3.69</td>\n",
       "      <td>0.80</td>\n",
       "    </tr>\n",
       "    <tr>\n",
       "      <th>min</th>\n",
       "      <td>9.00</td>\n",
       "      <td>3.00</td>\n",
       "      <td>68.00</td>\n",
       "      <td>46.00</td>\n",
       "      <td>1613.00</td>\n",
       "      <td>8.00</td>\n",
       "      <td>70.00</td>\n",
       "      <td>1.00</td>\n",
       "    </tr>\n",
       "    <tr>\n",
       "      <th>25%</th>\n",
       "      <td>17.00</td>\n",
       "      <td>4.00</td>\n",
       "      <td>106.50</td>\n",
       "      <td>78.00</td>\n",
       "      <td>2252.00</td>\n",
       "      <td>13.70</td>\n",
       "      <td>73.00</td>\n",
       "      <td>1.00</td>\n",
       "    </tr>\n",
       "    <tr>\n",
       "      <th>50%</th>\n",
       "      <td>22.15</td>\n",
       "      <td>4.00</td>\n",
       "      <td>151.00</td>\n",
       "      <td>95.00</td>\n",
       "      <td>2845.00</td>\n",
       "      <td>15.50</td>\n",
       "      <td>76.00</td>\n",
       "      <td>1.00</td>\n",
       "    </tr>\n",
       "    <tr>\n",
       "      <th>75%</th>\n",
       "      <td>28.18</td>\n",
       "      <td>8.00</td>\n",
       "      <td>302.00</td>\n",
       "      <td>129.00</td>\n",
       "      <td>3622.50</td>\n",
       "      <td>17.00</td>\n",
       "      <td>79.00</td>\n",
       "      <td>2.00</td>\n",
       "    </tr>\n",
       "    <tr>\n",
       "      <th>max</th>\n",
       "      <td>39.10</td>\n",
       "      <td>8.00</td>\n",
       "      <td>455.00</td>\n",
       "      <td>230.00</td>\n",
       "      <td>5140.00</td>\n",
       "      <td>24.80</td>\n",
       "      <td>82.00</td>\n",
       "      <td>3.00</td>\n",
       "    </tr>\n",
       "  </tbody>\n",
       "</table>\n",
       "</div>"
      ],
      "text/plain": [
       "          mpg  cylinders  displacement  horsepower   weight  acceleration    year  origin\n",
       "count  388.00     388.00        388.00      388.00   388.00        388.00  388.00  388.00\n",
       "mean    23.02       5.49        196.10      105.36  2993.75         15.47   75.91    1.55\n",
       "std      7.26       1.71        104.25       38.07   844.67          2.67    3.69    0.80\n",
       "min      9.00       3.00         68.00       46.00  1613.00          8.00   70.00    1.00\n",
       "25%     17.00       4.00        106.50       78.00  2252.00         13.70   73.00    1.00\n",
       "50%     22.15       4.00        151.00       95.00  2845.00         15.50   76.00    1.00\n",
       "75%     28.18       8.00        302.00      129.00  3622.50         17.00   79.00    2.00\n",
       "max     39.10       8.00        455.00      230.00  5140.00         24.80   82.00    3.00"
      ]
     },
     "execution_count": 26,
     "metadata": {},
     "output_type": "execute_result"
    }
   ],
   "source": [
    "# Misleading stats without defining categorical variables:\n",
    "round(df.describe(), 2)"
   ]
  },
  {
   "cell_type": "markdown",
   "metadata": {
    "id": "L_7QZ9SSMxOy"
   },
   "source": [
    "Obviously, `cylinders`, `year`, `origin` are not supposed to be \"numeric\". So, they need to be **defined** as **categorical**."
   ]
  },
  {
   "cell_type": "code",
   "execution_count": 27,
   "metadata": {
    "colab": {
     "background_save": true
    },
    "id": "txTvPAl3fTZ4"
   },
   "outputs": [
    {
     "data": {
      "text/html": [
       "<div>\n",
       "<style scoped>\n",
       "    .dataframe tbody tr th:only-of-type {\n",
       "        vertical-align: middle;\n",
       "    }\n",
       "\n",
       "    .dataframe tbody tr th {\n",
       "        vertical-align: top;\n",
       "    }\n",
       "\n",
       "    .dataframe thead th {\n",
       "        text-align: right;\n",
       "    }\n",
       "</style>\n",
       "<table border=\"1\" class=\"dataframe\">\n",
       "  <thead>\n",
       "    <tr style=\"text-align: right;\">\n",
       "      <th></th>\n",
       "      <th>cylinders</th>\n",
       "      <th>year</th>\n",
       "      <th>origin</th>\n",
       "    </tr>\n",
       "  </thead>\n",
       "  <tbody>\n",
       "    <tr>\n",
       "      <th>count</th>\n",
       "      <td>388</td>\n",
       "      <td>388</td>\n",
       "      <td>388</td>\n",
       "    </tr>\n",
       "    <tr>\n",
       "      <th>unique</th>\n",
       "      <td>5</td>\n",
       "      <td>13</td>\n",
       "      <td>3</td>\n",
       "    </tr>\n",
       "    <tr>\n",
       "      <th>top</th>\n",
       "      <td>4</td>\n",
       "      <td>73</td>\n",
       "      <td>1</td>\n",
       "    </tr>\n",
       "    <tr>\n",
       "      <th>freq</th>\n",
       "      <td>194</td>\n",
       "      <td>40</td>\n",
       "      <td>249</td>\n",
       "    </tr>\n",
       "  </tbody>\n",
       "</table>\n",
       "</div>"
      ],
      "text/plain": [
       "        cylinders  year  origin\n",
       "count         388   388     388\n",
       "unique          5    13       3\n",
       "top             4    73       1\n",
       "freq          194    40     249"
      ]
     },
     "execution_count": 27,
     "metadata": {},
     "output_type": "execute_result"
    }
   ],
   "source": [
    "# Define some columns (discrete) as \"categorical\"\n",
    "cols_cat = ['cylinders', 'year', 'origin']\n",
    "df[cols_cat]=df[cols_cat].astype('category')\n",
    "df[cols_cat].describe()"
   ]
  },
  {
   "cell_type": "code",
   "execution_count": 28,
   "metadata": {
    "colab": {
     "background_save": true
    },
    "id": "UdCdAUyqiN0U"
   },
   "outputs": [
    {
     "data": {
      "text/plain": [
       "4    194\n",
       "8    103\n",
       "6     84\n",
       "3      4\n",
       "5      3\n",
       "Name: cylinders, dtype: int64"
      ]
     },
     "metadata": {},
     "output_type": "display_data"
    },
    {
     "data": {
      "text/plain": [
       "73    40\n",
       "78    34\n",
       "76    34\n",
       "82    30\n",
       "75    30\n",
       "81    29\n",
       "79    29\n",
       "70    29\n",
       "77    28\n",
       "72    28\n",
       "71    28\n",
       "74    27\n",
       "80    22\n",
       "Name: year, dtype: int64"
      ]
     },
     "metadata": {},
     "output_type": "display_data"
    },
    {
     "data": {
      "text/plain": [
       "1    249\n",
       "3     75\n",
       "2     64\n",
       "Name: origin, dtype: int64"
      ]
     },
     "metadata": {},
     "output_type": "display_data"
    }
   ],
   "source": [
    "# Display the frequency distribution for all the categorical variables\n",
    "display(df.cylinders.value_counts(sort=True))\n",
    "display(df.year.value_counts(sort=True))\n",
    "display(df.origin.value_counts(sort=True))"
   ]
  },
  {
   "cell_type": "markdown",
   "metadata": {
    "id": "VYGjIuhu88he"
   },
   "source": [
    "### **Visualizing the Categorical Columns**"
   ]
  },
  {
   "cell_type": "code",
   "execution_count": 29,
   "metadata": {
    "colab": {
     "background_save": true
    },
    "id": "3FAX93-Xoc88"
   },
   "outputs": [
    {
     "data": {
      "image/png": "[encoded data removed]",
      "text/plain": [
       "<Figure size 720x360 with 1 Axes>"
      ]
     },
     "metadata": {},
     "output_type": "display_data"
    }
   ],
   "source": [
    "sns.set(style='darkgrid')\n",
    "plt.figure(figsize=(10,5))\n",
    "# Barchart for \"origin\"\n",
    "ax = sns.countplot(x='origin', data=df)\n",
    "plt.savefig(\"barchart.png\", dpi=300)"
   ]
  },
  {
   "cell_type": "code",
   "execution_count": 30,
   "metadata": {
    "colab": {
     "background_save": true
    },
    "id": "2pA9ljFeBhjo"
   },
   "outputs": [
    {
     "data": {
      "image/png": "[encoded data removed]",
      "text/plain": [
       "<Figure size 720x720 with 1 Axes>"
      ]
     },
     "metadata": {},
     "output_type": "display_data"
    }
   ],
   "source": [
    "cylinder_counts = df['cylinders'].value_counts()\n",
    "df2 = pd.DataFrame({'cylinder_type': cylinder_counts}, \n",
    "                     index = df.cylinders.unique()\n",
    "                   )\n",
    "# Pie chart for \"cylinder type\"\n",
    "df2.plot.pie(y='cylinder_type', figsize=(10,10), \n",
    "                  explode = (0, 0, 0, 0.2, 0.2), autopct='%.2f%%')\n",
    "plt.savefig(\"pie.png\", dpi=300)"
   ]
  },
  {
   "cell_type": "markdown",
   "metadata": {
    "id": "iFnrIIIysgHe"
   },
   "source": [
    "## **Takeaways**  \n",
    "\n",
    "* Make your data ready before EDA: checking missing values and outliers, sorting, rescaling, merging, grouping, concatenating, etc., using `pandas`.\n",
    "\n",
    "* Gain more/deeper understanding of your data using EDA\n",
    "\n",
    "* Understand the basic operations of EDA: Descriptive Statistics and Visualization.\n",
    "\n",
    "* Practice EDA using Python libraries, like **numpy**, **pandas**, **matplotlib**, **seaborn**, etc.\n",
    "\n"
   ]
  },
  {
   "cell_type": "markdown",
   "metadata": {
    "id": "_0pYSLsNiEPn"
   },
   "source": [
    "## **Online References/Resources**\n",
    "\n",
    "* [Get Started with Google Colab](https://colab.research.google.com/notebooks/basic_features_overview.ipynb)\n",
    "\n",
    "* [10 tricks for a better Google Colab experience](https://towardsdatascience.com/10-tips-for-a-better-google-colab-experience-33f8fe721b82)\n",
    "\n",
    "* [Learn Python in 10 minutes](https://www.pyscoop.com/learn-python-in-10-minutes/)\n",
    "\n",
    "* [Python for Data Science Cheat Sheet](https://datacamp-community-prod.s3.amazonaws.com/9f0f2ae1-8bd8-4302-a67b-e17f3059d9e8)\n",
    "\n",
    "* [10 minutes to pandas](https://pandas.pydata.org/pandas-docs/stable/user_guide/10min.html)\n",
    "\n",
    "* [Introduction to pandas](https://colab.research.google.com/notebooks/mlcc/intro_to_pandas.ipynb)\n",
    "\n",
    "* [Matplotlib module](https://matplotlib.org/)\n",
    "\n",
    "* [A Quick Guide on Descriptive Statistics using Pandas and Seaborn](https://towardsdatascience.com/a-quick-guide-on-descriptive-statistics-using-pandas-and-seaborn-2aadc7395f32)\n",
    "\n",
    "* [Project Python by Devin Balkcom](http://projectpython.net/chapter00/)\n",
    "\n",
    "* [Q & A website: Stack Overflow site](http://stackoverflow.com/)"
   ]
  }
 ],
 "metadata": {
  "colab": {
   "collapsed_sections": [],
   "name": "Get_Started_With_Exploratory_Data_Analysis_11032021.ipynb",
   "provenance": []
  },
  "kernelspec": {
   "display_name": "Python 3",
   "language": "python",
   "name": "python3"
  },
  "language_info": {
   "codemirror_mode": {
    "name": "ipython",
    "version": 3
   },
   "file_extension": ".py",
   "mimetype": "text/x-python",
   "name": "python",
   "nbconvert_exporter": "python",
   "pygments_lexer": "ipython3",
   "version": "3.7.6"
  },
  "toc": {
   "base_numbering": 1,
   "nav_menu": {},
   "number_sections": true,
   "sideBar": true,
   "skip_h1_title": false,
   "title_cell": "Table of Contents",
   "title_sidebar": "Contents",
   "toc_cell": false,
   "toc_position": {},
   "toc_section_display": true,
   "toc_window_display": false
  }
 },
 "nbformat": 4,
 "nbformat_minor": 1
}
